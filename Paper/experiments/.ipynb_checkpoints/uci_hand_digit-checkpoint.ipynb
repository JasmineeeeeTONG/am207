{
 "cells": [
  {
   "cell_type": "code",
   "execution_count": 1,
   "metadata": {},
   "outputs": [
    {
     "name": "stderr",
     "output_type": "stream",
     "text": [
      "/anaconda3/lib/python3.6/site-packages/h5py/__init__.py:36: FutureWarning: Conversion of the second argument of issubdtype from `float` to `np.floating` is deprecated. In future, it will be treated as `np.float64 == np.dtype(float).type`.\n",
      "  from ._conv import register_converters as _register_converters\n",
      "Using TensorFlow backend.\n"
     ]
    }
   ],
   "source": [
    "import numpy as np\n",
    "import tensorflow as tf\n",
    "import keras\n",
    "\n",
    "from keras.optimizers import SGD, Adadelta\n",
    "from keras.models import Sequential\n",
    "from keras.layers import Dense, Dropout, Activation, Flatten\n",
    "from keras.layers import Conv2D, MaxPooling2D\n",
    "from keras.utils import np_utils\n",
    "from keras import backend as K"
   ]
  },
  {
   "cell_type": "code",
   "execution_count": 2,
   "metadata": {},
   "outputs": [
    {
     "name": "stdout",
     "output_type": "stream",
     "text": [
      "(7780, 784) (7780, 8) (3200, 784) (3200, 8)\n"
     ]
    }
   ],
   "source": [
    "batch_size = 32\n",
    "num_classes = 8\n",
    "epochs = 10\n",
    "\n",
    "# input image dimensions\n",
    "img_rows, img_cols = 28, 28\n",
    "img_size = img_rows * img_cols\n",
    "\n",
    "# load data & normalization\n",
    "train_data = np.load('data/handwriting_train.npy')\n",
    "train_data /= 255.\n",
    "x_train = train_data[:, :img_size]\n",
    "y_train = train_data[:, img_size:]\n",
    "\n",
    "val_data = np.load('data/handwriting_validation.npy')\n",
    "val_data /= 255.\n",
    "x_val = val_data[:, :img_size]\n",
    "y_val = val_data[:, img_size:]\n",
    "\n",
    "print(x_train.shape, y_train.shape, x_val.shape, y_val.shape)"
   ]
  },
  {
   "cell_type": "code",
   "execution_count": 3,
   "metadata": {},
   "outputs": [
    {
     "data": {
      "text/plain": [
       "(0.0, 1.0)"
      ]
     },
     "execution_count": 3,
     "metadata": {},
     "output_type": "execute_result"
    }
   ],
   "source": [
    "np.min(train_data), np.max(train_data)"
   ]
  },
  {
   "cell_type": "code",
   "execution_count": 4,
   "metadata": {},
   "outputs": [],
   "source": [
    "# image data 3D -> 4D \n",
    "if K.image_data_format() == 'channels_first':\n",
    "    x_train = x_train.reshape(x_train.shape[0], 1, img_rows, img_cols)\n",
    "    x_val = x_val.reshape(x_val.shape[0], 1, img_rows, img_cols)\n",
    "    input_shape = (1, img_rows, img_cols)\n",
    "else:\n",
    "    x_train = x_train.reshape(x_train.shape[0], img_rows, img_cols, 1)\n",
    "    x_val = x_val.reshape(x_val.shape[0], img_rows, img_cols, 1)\n",
    "    input_shape = (img_rows, img_cols, 1)"
   ]
  },
  {
   "cell_type": "code",
   "execution_count": 5,
   "metadata": {},
   "outputs": [
    {
     "name": "stdout",
     "output_type": "stream",
     "text": [
      "Train on 7780 samples, validate on 3200 samples\n",
      "Epoch 1/10\n",
      "7780/7780 [==============================] - 23s 3ms/step - loss: 0.0067 - acc: 0.3852 - val_loss: 0.0038 - val_acc: 0.7456\n",
      "Epoch 2/10\n",
      "7780/7780 [==============================] - 22s 3ms/step - loss: 0.0035 - acc: 0.7179 - val_loss: 0.0029 - val_acc: 0.7781\n",
      "Epoch 3/10\n",
      "7780/7780 [==============================] - 26s 3ms/step - loss: 0.0027 - acc: 0.7992 - val_loss: 0.0022 - val_acc: 0.8419\n",
      "Epoch 4/10\n",
      "7780/7780 [==============================] - 28s 4ms/step - loss: 0.0024 - acc: 0.8266 - val_loss: 0.0019 - val_acc: 0.8631\n",
      "Epoch 5/10\n",
      "7780/7780 [==============================] - 34s 4ms/step - loss: 0.0022 - acc: 0.8375 - val_loss: 0.0019 - val_acc: 0.8597\n",
      "Epoch 6/10\n",
      "7780/7780 [==============================] - 37s 5ms/step - loss: 0.0020 - acc: 0.8524 - val_loss: 0.0018 - val_acc: 0.8688\n",
      "Epoch 7/10\n",
      "7780/7780 [==============================] - 36s 5ms/step - loss: 0.0019 - acc: 0.8605 - val_loss: 0.0017 - val_acc: 0.8706\n",
      "Epoch 8/10\n",
      "7780/7780 [==============================] - 40s 5ms/step - loss: 0.0018 - acc: 0.8611 - val_loss: 0.0016 - val_acc: 0.8772\n",
      "Epoch 9/10\n",
      "7780/7780 [==============================] - 39s 5ms/step - loss: 0.0017 - acc: 0.8639 - val_loss: 0.0016 - val_acc: 0.8803\n",
      "Epoch 10/10\n",
      "7780/7780 [==============================] - 40s 5ms/step - loss: 0.0016 - acc: 0.8738 - val_loss: 0.0015 - val_acc: 0.8794\n",
      "Test loss: 0.0015274865686660632\n",
      "Test accuracy: 0.879375\n"
     ]
    }
   ],
   "source": [
    "model = Sequential()\n",
    "model.add(Conv2D(32, kernel_size=(5, 5), activation='relu', input_shape=input_shape))\n",
    "model.add(Conv2D(32, kernel_size=(5, 5), activation='relu'))\n",
    "model.add(MaxPooling2D(pool_size=(2, 2)))\n",
    "model.add(Dropout(0.25))\n",
    "model.add(Flatten())\n",
    "model.add(Dense(128, activation='relu'))\n",
    "model.add(Dropout(0.25))\n",
    "model.add(Dense(num_classes, activation='softmax'))\n",
    "\n",
    "model.compile(loss=keras.losses.categorical_crossentropy,\n",
    "              optimizer=Adadelta(),\n",
    "#               optimizer=SGD(lr=0.01, decay=1e-6, momentum=0.9, nesterov=True),\n",
    "              metrics=['accuracy'])\n",
    "\n",
    "model.fit(x_train, y_train,\n",
    "          batch_size=batch_size,\n",
    "          epochs=epochs,\n",
    "          verbose=1,\n",
    "          validation_data=(x_val, y_val))\n",
    "score = model.evaluate(x_val, y_val, verbose=0)\n",
    "print('Test loss:', score[0])\n",
    "print('Test accuracy:', score[1])"
   ]
  },
  {
   "cell_type": "code",
   "execution_count": null,
   "metadata": {},
   "outputs": [],
   "source": [
    "# model.save('my_cnn.h5')"
   ]
  }
 ],
 "metadata": {
  "kernelspec": {
   "display_name": "Python 3",
   "language": "python",
   "name": "python3"
  },
  "language_info": {
   "codemirror_mode": {
    "name": "ipython",
    "version": 3
   },
   "file_extension": ".py",
   "mimetype": "text/x-python",
   "name": "python",
   "nbconvert_exporter": "python",
   "pygments_lexer": "ipython3",
   "version": "3.6.6"
  }
 },
 "nbformat": 4,
 "nbformat_minor": 2
}
