{
 "cells": [
  {
   "cell_type": "markdown",
   "metadata": {},
   "source": [
    "# Homework 10\n",
    "\n",
    "**Harvard University**<br>\n",
    "**Fall 2018**<br>\n",
    "**Instructors: Rahul Dave**<br>\n",
    "**Due Date:** Sunday, November 18th, 2018 at 11:59pm\n",
    "\n",
    "**Instructions:**\n",
    "\n",
    "- Upload your final answers in the form of a Jupyter notebook containing all work to Canvas.\n",
    "\n",
    "- Structure your notebook and your work to maximize readability."
   ]
  },
  {
   "cell_type": "markdown",
   "metadata": {},
   "source": [
    "### Collaborators\n",
    "\n",
    "** Place the name of everyone who's submitting this assignment here**"
   ]
  },
  {
   "cell_type": "markdown",
   "metadata": {},
   "source": [
    "<div class=\"answer-separator\">\n",
    "------------------------\n",
    "</div>"
   ]
  },
  {
   "cell_type": "code",
   "execution_count": 1,
   "metadata": {
    "collapsed": true
   },
   "outputs": [],
   "source": [
    "import numpy as np\n",
    "import scipy.stats\n",
    "import scipy.special\n",
    "\n",
    "import matplotlib\n",
    "import matplotlib.pyplot as plt\n",
    "import matplotlib.mlab as mlab\n",
    "from matplotlib import cm\n",
    "\n",
    "import pandas as pd\n",
    "import seaborn as sns\n",
    "\n",
    "from sklearn.model_selection import train_test_split\n",
    "\n",
    "%matplotlib inline"
   ]
  },
  {
   "cell_type": "code",
   "execution_count": 2,
   "metadata": {},
   "outputs": [
    {
     "name": "stderr",
     "output_type": "stream",
     "text": [
      "/Users/gwungwun/anaconda/lib/python3.6/site-packages/h5py/__init__.py:34: FutureWarning: Conversion of the second argument of issubdtype from `float` to `np.floating` is deprecated. In future, it will be treated as `np.float64 == np.dtype(float).type`.\n",
      "  from ._conv import register_converters as _register_converters\n"
     ]
    }
   ],
   "source": [
    "# pymc3 and theano imports\n",
    "\n",
    "import pymc3 as pm\n",
    "from pymc3 import Normal, Binomial, sample, Model \n",
    "from pymc3.math import invlogit\n",
    "import theano.tensor as T\n",
    "from theano import shared"
   ]
  },
  {
   "cell_type": "markdown",
   "metadata": {},
   "source": [
    "## Question 1: Metropoflix and Chill (What's your Net Worth)?"
   ]
  },
  {
   "cell_type": "markdown",
   "metadata": {},
   "source": [
    "**coding required**\n",
    "\n",
    "Suppose we ask you to memorize the order of the top five movies on IMDB. When we quiz you on the order afterwards, you may not recall the correct order, but the mistakes you make in your recall can be modeled by simple probabilistic models.\n",
    "  \n",
    "Let's say that the top five movies are:  \n",
    "1. *The Shawshank Redemption*\n",
    "2. *The Godfather*\n",
    "3. *The Godfather: Part II*\n",
    "4. *Black Panther*\n",
    "5. *Pulp Fiction*\n",
    "\n",
    "Let's represent this ordering by the vector $\\omega = (1,2,3,4,5)$. \n",
    "\n",
    "If you were to mistakenly recall the top five movies as:\n",
    "2. *The Godfather*\n",
    "3. *The Godfather: Part II*\n",
    "5. *Pulp Fiction*\n",
    "4. *Black Panther*\n",
    "1. *The Shawshank Redemption*\n",
    "\n",
    "We'd represent your answer by the vector $\\theta = (2,3,5,4,1)$.\n",
    "\n",
    "Unfortunately, your answer is wrong.  Fortunately (for our purposes) we have a way of quantifying just how wrong. Define the Hamming distance between two top five rankings, $\\theta, \\omega$, as follows:\n",
    "$$d(\\theta, \\omega) = \\sum_{i=1}^5 \\mathbb{I}_{\\theta_i\\neq \\omega_i},$$ \n",
    "where $\\mathbb{I}_{\\theta_i\\neq \\omega_i}$ is an indicator function that returns 1 if $\\theta_i\\neq \\omega_i$, and 0 otherwise.\n",
    "\n",
    "For example, the Hamming distance between your answer and the correct answer is $d(\\theta, \\omega)=4$, because you only ranked *Black Panther* correctly. \n",
    "\n",
    "Finally, let's suppose that the probability of giving a particular answer (expressed as $\\theta$) is modeled as\n",
    "$$ p(\\theta \\,|\\, \\omega, \\lambda) \\propto  e^{-\\lambda\\, d(\\theta,\\, \\omega)}$$\n",
    "where $\\lambda$ can be thought of as an inverse temperature\n",
    "\n",
    "1.1. Implement a Metropolis sampler to produce sample guesses from 500 individuals, with the $\\lambda$ values, $\\lambda=0.2, 0.5, 1.0$. What are the top five possible guesses?\n",
    "\n",
    "1.2. Compute the probability that *The Shawshank Redemption* is ranked as the top movie (ranked number 1) by the Metropolis algorithm sampler. Compare the resulting probabilities for the various $\\lambda$ values. \n",
    "\n",
    "1.3. How does $\\lambda$ affect the probability that *The Shawshank Redemption* is ranked as the top movie?\n"
   ]
  },
  {
   "cell_type": "markdown",
   "metadata": {},
   "source": [
    "**Gratuitous Titular Reference**:  \n",
    "\n",
    "It's 2018 -- Even Wikipedia knows what [Netflix and Chill](https://en.wikipedia.org/wiki/Netflix_and_chill) is about. (mixtape by Grime MC Merky ACE].  \n",
    "\n",
    "[Drake's the type of dude](https://knowyourmeme.com/memes/drake-the-type-of) to not care about [netflix and chill but about that net net net worth](https://youtu.be/DRS_PpOrUZ4?t=224) \n",
    "\n",
    "Drake may wanna know if [Kiki/KB](https://www.thefader.com/2018/10/24/real-kiki-drake-in-my-feelings-interview-kyanna-barber) is feeling him, but the [NTSB](https://www.ntsb.gov)  [definitely isn't](https://www.cnn.com/2018/07/25/entertainment/ntsb-in-my-feelings/index.html)\n",
    "\n",
    "Shout out [Nawlins](https://riverbeats.life/neworleans/drake-shares-his-in-my-feelings) and [Atlanta](http://www.thefader.com/2018/06/29/drake-sampled-atlanta-scorpion)."
   ]
  },
  {
   "cell_type": "code",
   "execution_count": 12,
   "metadata": {
    "collapsed": true
   },
   "outputs": [],
   "source": [
    "## 1.1\n",
    "lambda_ls = [0.2, 0.5, 1]\n",
    "w = np.array([1,2,3,4,5])"
   ]
  },
  {
   "cell_type": "code",
   "execution_count": 19,
   "metadata": {
    "collapsed": true
   },
   "outputs": [],
   "source": [
    "def metropolis(p, qdraw, nsamp, xinit, l, w = w):\n",
    "    samples=np.empty([nsamp,5])\n",
    "    x_prev = xinit\n",
    "    accepted = 0\n",
    "    \n",
    "    for i in range(nsamp):\n",
    "        x_star = qdraw(x_prev)\n",
    "        p_star = p(x_star, l)\n",
    "        p_prev = p(x_prev, l)\n",
    "        pdfratio = p_star/p_prev\n",
    "        if np.random.uniform() < min(1, pdfratio):\n",
    "            samples[i,:] = x_star\n",
    "            x_prev = x_star\n",
    "            accepted += 1\n",
    "        else:#we always get a sample\n",
    "            samples[i,:]= x_prev\n",
    "            \n",
    "    return samples, accepted*1./nsamp\n",
    "\n",
    "def prop(x):\n",
    "    return np.random.permutation(x)\n",
    "\n",
    "def f(x, l):\n",
    "    return np.exp(-l * d(x))\n",
    "\n",
    "def d(theta, w = w):\n",
    "    return np.sum(theta != w)"
   ]
  },
  {
   "cell_type": "code",
   "execution_count": 41,
   "metadata": {},
   "outputs": [
    {
     "name": "stdout",
     "output_type": "stream",
     "text": [
      "acceptance rate = 0.874 for lambda = 0.2\n",
      "acceptance rate = 0.722 for lambda = 0.5\n",
      "acceptance rate = 0.414 for lambda = 1\n"
     ]
    }
   ],
   "source": [
    "x0=np.random.choice(w, 5, replace= False)\n",
    "N = 500\n",
    "samps_ls = []\n",
    "\n",
    "for l in lambda_ls:\n",
    "    samps,accept_rate = metropolis(f, prop, N, x0, l)\n",
    "    samps_ls.append(samps)\n",
    "    print(\"acceptance rate = {} for lambda = {}\".format(accept_rate, l))"
   ]
  },
  {
   "cell_type": "code",
   "execution_count": 42,
   "metadata": {},
   "outputs": [
    {
     "name": "stdout",
     "output_type": "stream",
     "text": [
      "top 5 choices :['[1. 2. 3. 4. 5.]', '[1. 2. 3. 5. 4.]', '[1. 2. 4. 3. 5.]', '[1. 2. 4. 5. 3.]', '[1. 2. 5. 3. 4.]'] with counts [14, 4, 4, 2, 4],  for lambda = 0.2\n",
      "top 5 choices :['[1. 2. 3. 4. 5.]', '[1. 2. 3. 5. 4.]', '[1. 2. 4. 3. 5.]', '[1. 2. 4. 5. 3.]', '[1. 2. 5. 3. 4.]'] with counts [28, 29, 8, 4, 2],  for lambda = 0.5\n",
      "top 5 choices :['[1. 2. 3. 4. 5.]', '[1. 2. 3. 5. 4.]', '[1. 2. 4. 3. 5.]', '[1. 2. 4. 5. 3.]', '[1. 2. 5. 3. 4.]'] with counts [126, 1, 15, 6, 16],  for lambda = 1\n"
     ]
    }
   ],
   "source": [
    "for idx, l in enumerate(lambda_ls):\n",
    "    samps= samps_ls[idx]\n",
    "    rank, count = np.unique([np.str(s) for s in samps], return_counts= True)\n",
    "    print(\"top 5 choices :{} with counts {},  for lambda = {}\".format([r for r in rank[:5]],  [c for c in count[:5]], l))"
   ]
  },
  {
   "cell_type": "code",
   "execution_count": 43,
   "metadata": {},
   "outputs": [
    {
     "name": "stdout",
     "output_type": "stream",
     "text": [
      "probability that The Shawshank Redemption is ranked as the top movie (ranked number 1)0.25,  for lambda = 0.2\n",
      "probability that The Shawshank Redemption is ranked as the top movie (ranked number 1)0.38,  for lambda = 0.5\n",
      "probability that The Shawshank Redemption is ranked as the top movie (ranked number 1)0.456,  for lambda = 1\n"
     ]
    }
   ],
   "source": [
    "## 1.2\n",
    "for idx, l in enumerate(lambda_ls):\n",
    "    samps= samps_ls[idx]\n",
    "    prob = np.mean([s[0] == 1 for s in samps])\n",
    "    print(\"probability that The Shawshank Redemption is ranked as the top movie (ranked number 1){},  for lambda = {}\".format(prob, l))"
   ]
  },
  {
   "cell_type": "code",
   "execution_count": null,
   "metadata": {
    "collapsed": true
   },
   "outputs": [],
   "source": []
  },
  {
   "cell_type": "markdown",
   "metadata": {},
   "source": [
    "<div class=\"answer-separator\">\n",
    "------------------------\n",
    "</div>"
   ]
  },
  {
   "cell_type": "markdown",
   "metadata": {},
   "source": [
    "## Question 2: In a Flash the Iris devient un Fleur-de-Lis."
   ]
  },
  {
   "cell_type": "markdown",
   "metadata": {},
   "source": [
    "**coding required**\n",
    "\n",
    "We've done classification before, but the goal of this problem is to introduce you to the idea of classification using Bayesian inference. \n",
    "\n",
    "Consider the famous *Fisher flower Iris data set* a  multivariate data set introduced by Sir Ronald Fisher (1936) as an example of discriminant analysis. The data set consists of 50 samples from each of three species of Iris (Iris setosa, Iris virginica and Iris versicolor). Four features were measured from each sample: the length and the width of the sepals and petals, in centimeters. Based on the combination of these four features, you will build a model to predict the species. \n",
    "\n",
    "For this problem only consider two classes: **virginica** and **not-virginica**. \n",
    "\n",
    "The iris data can be obtained [here](https://piazza.com/redirect/s3?bucket=uploads&prefix=attach%2Fjlo4e4ari3r4wd%2Fj9vjyzv62x149%2Fjoe90cwt3dla%2Firis.csv).\n",
    "\n",
    "Let $(X, Y )$ be our dataset, where $X=\\{\\vec{x}_1, \\ldots \\vec{x}_n\\}$ and $\\vec{x}_i$ is the standard feature vector corresponding to an offset 1 and the four components explained above. $Y \\in \\{0,1\\}$ are the scalar labels of a class. In other words the species labels are your $Y$ data (virginica = 0 and virginica=1), and the four features -- petal length, petal width, sepal length and sepal width -- along with the offset make up your $X$ data. \n",
    "\n",
    "The goal is to train a classifier, that will predict an unknown class label $\\hat{y}$ from a new data point $x$. \n",
    "\n",
    "Consider the following glm (logistic model) for the probability of a class:\n",
    "\n",
    "$$ p(y) = \\frac{1}{1+e^{-x^T \\beta}} $$\n",
    "\n",
    "(or $logit(p) = x^T \\beta$ in more traditional glm form)\n",
    "\n",
    "where $\\beta$ is a 5D parameter to learn. \n",
    "\n",
    "Then given $p$ at a particular data point $x$, we can use a bernoulli likelihood to get 1's and 0's. This should be enough for you to set up your model in pymc3. (Note: You might want to set up $p$ as a deterministic explicitly so that pymc3 does the work of giving you the trace).\n",
    "\n",
    "\n",
    "2.1. Use a 60-40 stratified (preserving class membership) split of the dataset into a training set and a test set. (Feel free to take advantage of scikit-learn's `train_test_split`).\n",
    "\n",
    "2.2. Choose a prior for $\\beta \\sim N(0, \\sigma^2 I) $ and write down the formula for the posterior $p(\\beta| Y,X)$. Since we dont care about regularization here, just use the mostly uninformative value $\\sigma = 10$.\n",
    "\n",
    "2.3. Find the MAP for the posterior on the training set.\n",
    "\n",
    "2.4. Implement a PyMC3 model to sample from this posterior of $\\beta$.  \n",
    "\n",
    "2.5. Generate 5000 samples of $\\beta$.  Visualize the betas and generate a traceplot and autocorrelation plots for each beta component.\n",
    "\n",
    "2.6. Based on your samples construct an estimate for the posterior mean.\n",
    "\n",
    "2.7. Select at least 2 datapoints and visualize a histogram of the posterior probabilities.  Denote the posterior mean and MAP on your plot for each datapoint\n",
    "\n",
    "\n",
    "Although having the posterior probabilities is nice, they are not enough.  We need to think about how to make predictions based on our machinery.  If we define the following:\n",
    "\n",
    " - $p_{MEAN}$: using the posterior mean betas to generate probabilities for each data point\n",
    " - $p_{MAP}$: using the posterior MAP betas to generate probabilities for each data point\n",
    " - $p_{CDF}$: using the fraction of your posterior samples have values above 0.5 for each data point\n",
    " - $p_{PP}$:  using the fraction of 1s out of the samples drawn from the posterior predictive distribution for each data point\n",
    "\n",
    "2.8. Plot the distributions of $p_{MEAN}$, $p_{CDF}$, $p_{MAP}$ and $p_{PP}$ over all the data points in the training set. How are these different?\n",
    "\n",
    "\n",
    "How do we turn these probabilities into predictions?  *There are two ways to make these predictions, given an estimate of $p(y=1\\ \\vert\\ x)$:* \n",
    "\n",
    "- Sample from the Bernoulli likelihood at the data point $x$ to decide if that particular data points classification $y(x)$ should be a 1 or a 0.\n",
    "\n",
    "- Do the intuitive \"machine-learning-decision-theoretic\" (MLDT) thing and you assign a data  point $x$ a classification 1 if $p(y=1 \\vert x) > 0.5$.\n",
    "\n",
    "2.9. Plot the posterior-predictive distribution of the misclassification rate with respect to the true class identities $y(x)$ of the data points $x$ (in other words you are plotting a histogram with the misclassification rate for the $n_{trace}$ posterior-predictive samples) on the training set.\n",
    "\n",
    "2.10. For every posterior sample, consider whether the data point ought to be classified as a 1 or 0 from the $p>0.5 \\implies y=1$ decision theoretic prespective. Using the MLDT defined above, overlay a plot of the histogram of the misclassification rate for the posterior on the corresponding plot for the posterior-predictive you constructed in 2.9.  Which case (from posterior-predictive or from-posterior) has a wider mis-classification distribution? \n",
    "\n",
    "2.11. Repeat 2.9 and 2.10 for the test set (i.e. make predictions).  Describe and interpret the widths of the resulting distributions."
   ]
  },
  {
   "cell_type": "markdown",
   "metadata": {},
   "source": [
    "**Gratuitous Titular References**:  \n",
    "\n",
    "[The Iris Dataset](https://en.wikipedia.org/wiki/Iris_flower_data_set) was introduced by Ronald Fisher as part of a [famous article](https://onlinelibrary.wiley.com/doi/epdf/10.1111/j.1469-1809.1936.tb02137.x) introducing [LDA](https://en.wikipedia.org/wiki/Linear_discriminant_analysis).\n",
    "\n",
    "The three iris variants in the dataset were at the time [difficult to tell apart morphologically](https://www.jstor.org/stable/2394164?seq=1#page_scan_tab_contents)\n",
    "\n",
    "While the origin of the [Fleur-de-Lis is debated](https://www.heraldica.org/topics/fdl.htm), it is most likely an [Iris florentina](https://en.wikipedia.org/wiki/Iris_florentina) or [Iris pseudacorus](https://en.wikipedia.org/wiki/Iris_pseudacorus) but not a [lily flower](https://www.collinsdictionary.com/dictionary/english-french/lily).\n",
    "\n",
    "[Iris West](https://en.wikipedia.org/wiki/Iris_West) is a love interest of [Barry Allen](https://en.wikipedia.org/wiki/Flash_(Barry_Allen) one of the main incarnations of [The Flash](https://en.wikipedia.org/wiki/Flash_(comics).  Coming from [Central City](https://en.wikipedia.org/wiki/Central_City_(DC_Comics) she is most likely classified as **not-virginica**."
   ]
  },
  {
   "cell_type": "code",
   "execution_count": 3,
   "metadata": {},
   "outputs": [
    {
     "data": {
      "text/html": [
       "<div>\n",
       "<style>\n",
       "    .dataframe thead tr:only-child th {\n",
       "        text-align: right;\n",
       "    }\n",
       "\n",
       "    .dataframe thead th {\n",
       "        text-align: left;\n",
       "    }\n",
       "\n",
       "    .dataframe tbody tr th {\n",
       "        vertical-align: top;\n",
       "    }\n",
       "</style>\n",
       "<table border=\"1\" class=\"dataframe\">\n",
       "  <thead>\n",
       "    <tr style=\"text-align: right;\">\n",
       "      <th></th>\n",
       "      <th>sepal_length</th>\n",
       "      <th>sepal_width</th>\n",
       "      <th>petal_length</th>\n",
       "      <th>petal_width</th>\n",
       "      <th>class</th>\n",
       "    </tr>\n",
       "  </thead>\n",
       "  <tbody>\n",
       "    <tr>\n",
       "      <th>0</th>\n",
       "      <td>5.1</td>\n",
       "      <td>3.5</td>\n",
       "      <td>1.4</td>\n",
       "      <td>0.2</td>\n",
       "      <td>Iris-setosa</td>\n",
       "    </tr>\n",
       "    <tr>\n",
       "      <th>1</th>\n",
       "      <td>4.9</td>\n",
       "      <td>3.0</td>\n",
       "      <td>1.4</td>\n",
       "      <td>0.2</td>\n",
       "      <td>Iris-setosa</td>\n",
       "    </tr>\n",
       "    <tr>\n",
       "      <th>2</th>\n",
       "      <td>4.7</td>\n",
       "      <td>3.2</td>\n",
       "      <td>1.3</td>\n",
       "      <td>0.2</td>\n",
       "      <td>Iris-setosa</td>\n",
       "    </tr>\n",
       "    <tr>\n",
       "      <th>3</th>\n",
       "      <td>4.6</td>\n",
       "      <td>3.1</td>\n",
       "      <td>1.5</td>\n",
       "      <td>0.2</td>\n",
       "      <td>Iris-setosa</td>\n",
       "    </tr>\n",
       "    <tr>\n",
       "      <th>4</th>\n",
       "      <td>5.0</td>\n",
       "      <td>3.6</td>\n",
       "      <td>1.4</td>\n",
       "      <td>0.2</td>\n",
       "      <td>Iris-setosa</td>\n",
       "    </tr>\n",
       "  </tbody>\n",
       "</table>\n",
       "</div>"
      ],
      "text/plain": [
       "   sepal_length  sepal_width  petal_length  petal_width         class\n",
       "0           5.1          3.5           1.4          0.2   Iris-setosa\n",
       "1           4.9          3.0           1.4          0.2   Iris-setosa\n",
       "2           4.7          3.2           1.3          0.2   Iris-setosa\n",
       "3           4.6          3.1           1.5          0.2   Iris-setosa\n",
       "4           5.0          3.6           1.4          0.2   Iris-setosa"
      ]
     },
     "execution_count": 3,
     "metadata": {},
     "output_type": "execute_result"
    }
   ],
   "source": [
    "# 2.1\n",
    "df = pd.read_csv(\"iris.csv\")\n",
    "df.head()"
   ]
  },
  {
   "cell_type": "code",
   "execution_count": 4,
   "metadata": {},
   "outputs": [
    {
     "data": {
      "text/html": [
       "<div>\n",
       "<style>\n",
       "    .dataframe thead tr:only-child th {\n",
       "        text-align: right;\n",
       "    }\n",
       "\n",
       "    .dataframe thead th {\n",
       "        text-align: left;\n",
       "    }\n",
       "\n",
       "    .dataframe tbody tr th {\n",
       "        vertical-align: top;\n",
       "    }\n",
       "</style>\n",
       "<table border=\"1\" class=\"dataframe\">\n",
       "  <thead>\n",
       "    <tr style=\"text-align: right;\">\n",
       "      <th></th>\n",
       "      <th>sepal_length</th>\n",
       "      <th>sepal_width</th>\n",
       "      <th>petal_length</th>\n",
       "      <th>petal_width</th>\n",
       "      <th>virginica</th>\n",
       "      <th>ones</th>\n",
       "    </tr>\n",
       "  </thead>\n",
       "  <tbody>\n",
       "    <tr>\n",
       "      <th>0</th>\n",
       "      <td>5.1</td>\n",
       "      <td>3.5</td>\n",
       "      <td>1.4</td>\n",
       "      <td>0.2</td>\n",
       "      <td>0</td>\n",
       "      <td>1</td>\n",
       "    </tr>\n",
       "    <tr>\n",
       "      <th>1</th>\n",
       "      <td>4.9</td>\n",
       "      <td>3.0</td>\n",
       "      <td>1.4</td>\n",
       "      <td>0.2</td>\n",
       "      <td>0</td>\n",
       "      <td>1</td>\n",
       "    </tr>\n",
       "    <tr>\n",
       "      <th>2</th>\n",
       "      <td>4.7</td>\n",
       "      <td>3.2</td>\n",
       "      <td>1.3</td>\n",
       "      <td>0.2</td>\n",
       "      <td>0</td>\n",
       "      <td>1</td>\n",
       "    </tr>\n",
       "    <tr>\n",
       "      <th>3</th>\n",
       "      <td>4.6</td>\n",
       "      <td>3.1</td>\n",
       "      <td>1.5</td>\n",
       "      <td>0.2</td>\n",
       "      <td>0</td>\n",
       "      <td>1</td>\n",
       "    </tr>\n",
       "    <tr>\n",
       "      <th>4</th>\n",
       "      <td>5.0</td>\n",
       "      <td>3.6</td>\n",
       "      <td>1.4</td>\n",
       "      <td>0.2</td>\n",
       "      <td>0</td>\n",
       "      <td>1</td>\n",
       "    </tr>\n",
       "  </tbody>\n",
       "</table>\n",
       "</div>"
      ],
      "text/plain": [
       "   sepal_length  sepal_width  petal_length  petal_width  virginica  ones\n",
       "0           5.1          3.5           1.4          0.2          0     1\n",
       "1           4.9          3.0           1.4          0.2          0     1\n",
       "2           4.7          3.2           1.3          0.2          0     1\n",
       "3           4.6          3.1           1.5          0.2          0     1\n",
       "4           5.0          3.6           1.4          0.2          0     1"
      ]
     },
     "execution_count": 4,
     "metadata": {},
     "output_type": "execute_result"
    }
   ],
   "source": [
    "df['virginica'] = df['class'].apply(lambda x: 1 if x == ' Iris-virginica' else 0)\n",
    "df = df.drop(['class'], axis = 1)\n",
    "df['ones'] = 1\n",
    "df.head()"
   ]
  },
  {
   "cell_type": "code",
   "execution_count": 5,
   "metadata": {},
   "outputs": [],
   "source": [
    "df_train, df_test = train_test_split(df, stratify = df.virginica, test_size = 0.4, random_state = 100)"
   ]
  },
  {
   "cell_type": "code",
   "execution_count": 6,
   "metadata": {},
   "outputs": [],
   "source": [
    "x_train, y_train = df_train.drop(['virginica'], axis = 1).values, df_train.virginica.values\n",
    "x_test, y_test = df_test.drop(['virginica'], axis = 1).values, df_test.virginica.values"
   ]
  },
  {
   "cell_type": "code",
   "execution_count": 7,
   "metadata": {
    "collapsed": true
   },
   "outputs": [],
   "source": [
    "x_shared = shared(x_train)\n",
    "# y_shared = shared(y_train)\n",
    "D = 5"
   ]
  },
  {
   "cell_type": "code",
   "execution_count": 10,
   "metadata": {},
   "outputs": [],
   "source": [
    "## 2.2\n",
    "with Model() as logistic_model:\n",
    "\n",
    "    # Logit-linear model parameters\n",
    "    beta = pm.Normal('beta', 0, sd=10, shape = D)\n",
    "\n",
    "    # Calculate probabilities of death\n",
    "    theta = pm.Deterministic('theta', invlogit(T.dot(x_shared, beta)))\n",
    "\n",
    "    # Data likelihood\n",
    "    obs_virginica = pm.Bernoulli('obs_virginica', p=theta, observed=y_train)"
   ]
  },
  {
   "cell_type": "code",
   "execution_count": 11,
   "metadata": {},
   "outputs": [
    {
     "data": {
      "image/svg+xml": [
       "<?xml version=\"1.0\" encoding=\"UTF-8\" standalone=\"no\"?>\n",
       "<!DOCTYPE svg PUBLIC \"-//W3C//DTD SVG 1.1//EN\"\n",
       " \"http://www.w3.org/Graphics/SVG/1.1/DTD/svg11.dtd\">\n",
       "<!-- Generated by graphviz version 2.38.0 (20140413.2041)\n",
       " -->\n",
       "<!-- Title: %3 Pages: 1 -->\n",
       "<svg width=\"242pt\" height=\"252pt\"\n",
       " viewBox=\"0.00 0.00 242.00 252.00\" xmlns=\"http://www.w3.org/2000/svg\" xmlns:xlink=\"http://www.w3.org/1999/xlink\">\n",
       "<g id=\"graph0\" class=\"graph\" transform=\"scale(1 1) rotate(0) translate(4 248)\">\n",
       "<title>%3</title>\n",
       "<polygon fill=\"white\" stroke=\"none\" points=\"-4,4 -4,-248 238,-248 238,4 -4,4\"/>\n",
       "<g id=\"clust1\" class=\"cluster\"><title>cluster5</title>\n",
       "<path fill=\"none\" stroke=\"black\" d=\"M60,-162C60,-162 174,-162 174,-162 180,-162 186,-168 186,-174 186,-174 186,-224 186,-224 186,-230 180,-236 174,-236 174,-236 60,-236 60,-236 54,-236 48,-230 48,-224 48,-224 48,-174 48,-174 48,-168 54,-162 60,-162\"/>\n",
       "<text text-anchor=\"middle\" x=\"174.5\" y=\"-168.8\" font-family=\"Times,serif\" font-size=\"14.00\">5</text>\n",
       "</g>\n",
       "<g id=\"clust2\" class=\"cluster\"><title>cluster90</title>\n",
       "<path fill=\"none\" stroke=\"black\" d=\"M20,-8C20,-8 214,-8 214,-8 220,-8 226,-14 226,-20 226,-20 226,-142 226,-142 226,-148 220,-154 214,-154 214,-154 20,-154 20,-154 14,-154 8,-148 8,-142 8,-142 8,-20 8,-20 8,-14 14,-8 20,-8\"/>\n",
       "<text text-anchor=\"middle\" x=\"211\" y=\"-14.8\" font-family=\"Times,serif\" font-size=\"14.00\">90</text>\n",
       "</g>\n",
       "<!-- beta -->\n",
       "<g id=\"node1\" class=\"node\"><title>beta</title>\n",
       "<ellipse fill=\"none\" stroke=\"black\" cx=\"117\" cy=\"-210\" rx=\"61.1122\" ry=\"18\"/>\n",
       "<text text-anchor=\"middle\" x=\"117\" y=\"-205.8\" font-family=\"Times,serif\" font-size=\"14.00\">beta ~ Normal</text>\n",
       "</g>\n",
       "<!-- theta -->\n",
       "<g id=\"node2\" class=\"node\"><title>theta</title>\n",
       "<polygon fill=\"none\" stroke=\"black\" points=\"183.981,-146 50.0186,-146 50.0186,-110 183.981,-110 183.981,-146\"/>\n",
       "<text text-anchor=\"middle\" x=\"117\" y=\"-123.8\" font-family=\"Times,serif\" font-size=\"14.00\">theta ~ Deterministic</text>\n",
       "</g>\n",
       "<!-- beta&#45;&gt;theta -->\n",
       "<g id=\"edge1\" class=\"edge\"><title>beta&#45;&gt;theta</title>\n",
       "<path fill=\"none\" stroke=\"black\" d=\"M117,-191.641C117,-181.297 117,-167.941 117,-156.221\"/>\n",
       "<polygon fill=\"black\" stroke=\"black\" points=\"120.5,-156.05 117,-146.05 113.5,-156.05 120.5,-156.05\"/>\n",
       "</g>\n",
       "<!-- obs_virginica -->\n",
       "<g id=\"node3\" class=\"node\"><title>obs_virginica</title>\n",
       "<ellipse fill=\"lightgrey\" stroke=\"black\" cx=\"117\" cy=\"-56\" rx=\"100.901\" ry=\"18\"/>\n",
       "<text text-anchor=\"middle\" x=\"117\" y=\"-51.8\" font-family=\"Times,serif\" font-size=\"14.00\">obs_virginica ~ Bernoulli</text>\n",
       "</g>\n",
       "<!-- theta&#45;&gt;obs_virginica -->\n",
       "<g id=\"edge2\" class=\"edge\"><title>theta&#45;&gt;obs_virginica</title>\n",
       "<path fill=\"none\" stroke=\"black\" d=\"M117,-109.697C117,-101.983 117,-92.7125 117,-84.1124\"/>\n",
       "<polygon fill=\"black\" stroke=\"black\" points=\"120.5,-84.1043 117,-74.1043 113.5,-84.1044 120.5,-84.1043\"/>\n",
       "</g>\n",
       "</g>\n",
       "</svg>\n"
      ],
      "text/plain": [
       "<graphviz.dot.Digraph at 0x11db881d0>"
      ]
     },
     "execution_count": 11,
     "metadata": {},
     "output_type": "execute_result"
    }
   ],
   "source": [
    "pm.model_to_graphviz(logistic_model)"
   ]
  },
  {
   "cell_type": "code",
   "execution_count": 12,
   "metadata": {},
   "outputs": [
    {
     "name": "stderr",
     "output_type": "stream",
     "text": [
      "logp = -24.004, ||grad|| = 0.19822: 100%|██████████| 40/40 [00:00<00:00, 4082.84it/s]\n"
     ]
    },
    {
     "data": {
      "text/plain": [
       "array([ -2.59690798,  -3.84718621,   5.41561429,   7.82401923,\n",
       "       -12.67971932])"
      ]
     },
     "execution_count": 12,
     "metadata": {},
     "output_type": "execute_result"
    }
   ],
   "source": [
    "# 2.3\n",
    "map_params = pm.find_MAP(model=logistic_model)\n",
    "map_params['beta']"
   ]
  },
  {
   "cell_type": "code",
   "execution_count": 13,
   "metadata": {},
   "outputs": [
    {
     "name": "stderr",
     "output_type": "stream",
     "text": [
      "Auto-assigning NUTS sampler...\n",
      "Initializing NUTS using jitter+adapt_diag...\n",
      "Multiprocess sampling (2 chains in 2 jobs)\n",
      "NUTS: [beta]\n",
      "Sampling 2 chains: 100%|██████████| 11000/11000 [01:16<00:00, 70.12draws/s] \n",
      "There were 6 divergences after tuning. Increase `target_accept` or reparameterize.\n",
      "There were 2 divergences after tuning. Increase `target_accept` or reparameterize.\n"
     ]
    }
   ],
   "source": [
    "# 2.4\n",
    "with logistic_model:\n",
    "    trace = pm.sample(5000, start=map_params)"
   ]
  },
  {
   "cell_type": "code",
   "execution_count": 14,
   "metadata": {},
   "outputs": [
    {
     "data": {
      "image/png": "[encoded data removed]",
      "text/plain": [
       "<matplotlib.figure.Figure at 0x11e08b7f0>"
      ]
     },
     "metadata": {},
     "output_type": "display_data"
    }
   ],
   "source": [
    "# 2.5\n",
    "pm.traceplot(trace, varnames=['beta']);"
   ]
  },
  {
   "cell_type": "code",
   "execution_count": 15,
   "metadata": {},
   "outputs": [
    {
     "data": {
      "image/png": "[encoded data removed]",
      "text/plain": [
       "<matplotlib.figure.Figure at 0x11dea0400>"
      ]
     },
     "metadata": {},
     "output_type": "display_data"
    }
   ],
   "source": [
    "pm.autocorrplot(trace, varnames=['beta']);\n",
    "plt.tight_layout()"
   ]
  },
  {
   "cell_type": "code",
   "execution_count": 28,
   "metadata": {},
   "outputs": [
    {
     "data": {
      "text/plain": [
       "array([ -3.53190144,  -4.89918652,   7.15804211,   9.62299052,\n",
       "       -15.41395277])"
      ]
     },
     "execution_count": 28,
     "metadata": {},
     "output_type": "execute_result"
    }
   ],
   "source": [
    "# 2.6\n",
    "beta_mean = trace['beta'].mean(axis=0)\n",
    "beta_mean"
   ]
  },
  {
   "cell_type": "code",
   "execution_count": 37,
   "metadata": {},
   "outputs": [
    {
     "data": {
      "text/html": [
       "<div>\n",
       "<style>\n",
       "    .dataframe thead tr:only-child th {\n",
       "        text-align: right;\n",
       "    }\n",
       "\n",
       "    .dataframe thead th {\n",
       "        text-align: left;\n",
       "    }\n",
       "\n",
       "    .dataframe tbody tr th {\n",
       "        vertical-align: top;\n",
       "    }\n",
       "</style>\n",
       "<table border=\"1\" class=\"dataframe\">\n",
       "  <thead>\n",
       "    <tr style=\"text-align: right;\">\n",
       "      <th></th>\n",
       "      <th>sepal_length</th>\n",
       "      <th>sepal_width</th>\n",
       "      <th>petal_length</th>\n",
       "      <th>petal_width</th>\n",
       "      <th>virginica</th>\n",
       "      <th>ones</th>\n",
       "    </tr>\n",
       "  </thead>\n",
       "  <tbody>\n",
       "    <tr>\n",
       "      <th>111</th>\n",
       "      <td>6.4</td>\n",
       "      <td>2.7</td>\n",
       "      <td>5.3</td>\n",
       "      <td>1.9</td>\n",
       "      <td>1</td>\n",
       "      <td>1</td>\n",
       "    </tr>\n",
       "    <tr>\n",
       "      <th>46</th>\n",
       "      <td>5.1</td>\n",
       "      <td>3.8</td>\n",
       "      <td>1.6</td>\n",
       "      <td>0.2</td>\n",
       "      <td>0</td>\n",
       "      <td>1</td>\n",
       "    </tr>\n",
       "    <tr>\n",
       "      <th>90</th>\n",
       "      <td>5.5</td>\n",
       "      <td>2.6</td>\n",
       "      <td>4.4</td>\n",
       "      <td>1.2</td>\n",
       "      <td>0</td>\n",
       "      <td>1</td>\n",
       "    </tr>\n",
       "  </tbody>\n",
       "</table>\n",
       "</div>"
      ],
      "text/plain": [
       "     sepal_length  sepal_width  petal_length  petal_width  virginica  ones\n",
       "111           6.4          2.7           5.3          1.9          1     1\n",
       "46            5.1          3.8           1.6          0.2          0     1\n",
       "90            5.5          2.6           4.4          1.2          0     1"
      ]
     },
     "execution_count": 37,
     "metadata": {},
     "output_type": "execute_result"
    }
   ],
   "source": [
    "# 2.7\n",
    "df_train.head(3)"
   ]
  },
  {
   "cell_type": "code",
   "execution_count": 61,
   "metadata": {},
   "outputs": [],
   "source": [
    "beta = trace['beta']\n",
    "\n",
    "def y_post(x, beta = beta):\n",
    "    p = np.dot(beta, x.T)\n",
    "\n",
    "    return 1./(1 + np.exp(-p))"
   ]
  },
  {
   "cell_type": "code",
   "execution_count": 62,
   "metadata": {},
   "outputs": [
    {
     "data": {
      "image/png": "[encoded data removed]",
      "text/plain": [
       "<matplotlib.figure.Figure at 0x1208720b8>"
      ]
     },
     "metadata": {},
     "output_type": "display_data"
    }
   ],
   "source": [
    "idx_ls = [0, 2]\n",
    "fig, ax = plt.subplots(1, 2, figsize=(20, 5))\n",
    "\n",
    "for idx, i in enumerate(idx_ls):\n",
    "    x = x_train[i]\n",
    "    y = y_train[i]\n",
    "    y_p = y_post(x, beta)\n",
    "    ax[idx].hist(y_p, bins = 100)\n",
    "    ax[idx].axvline(y_post(x, beta=beta_mean), color = 'red', label = 'posterior_mean')\n",
    "    ax[idx].axvline(y_post(x, beta=map_params['beta']), color = 'green', label = 'posterior_map')\n",
    "    ax[idx].set_title(\"virginica = {}\".format(y))\n",
    "plt.legend();\n"
   ]
  },
  {
   "cell_type": "code",
   "execution_count": 102,
   "metadata": {},
   "outputs": [],
   "source": [
    "# 2.8\n",
    "p_mean = y_post(x_train, beta_mean)\n",
    "p_map = y_post(x_train, map_params['beta'])\n",
    "\n",
    "p_posterior = y_post(x_train, beta)\n",
    "p_cdf = np.mean([p_posterior > 0.5], axis = 1)[0]"
   ]
  },
  {
   "cell_type": "code",
   "execution_count": 78,
   "metadata": {},
   "outputs": [
    {
     "name": "stderr",
     "output_type": "stream",
     "text": [
      "100%|██████████| 10000/10000 [00:05<00:00, 1772.56it/s]\n"
     ]
    }
   ],
   "source": [
    "posterior_pred = pm.sample_ppc(trace, model=logistic_model, samples=10000)"
   ]
  },
  {
   "cell_type": "code",
   "execution_count": 97,
   "metadata": {},
   "outputs": [],
   "source": [
    "p_pp = np.mean(posterior_pred['obs_virginica'], axis = 0)"
   ]
  },
  {
   "cell_type": "code",
   "execution_count": 103,
   "metadata": {},
   "outputs": [
    {
     "data": {
      "image/png": "[encoded data removed]",
      "text/plain": [
       "<matplotlib.figure.Figure at 0x12e07ceb8>"
      ]
     },
     "metadata": {},
     "output_type": "display_data"
    }
   ],
   "source": [
    "fig, ax = plt.subplots(1, 4, figsize=(20, 5))\n",
    "\n",
    "for idx,p in enumerate([p_mean, p_map, p_cdf, p_pp]):\n",
    "    ax[idx].hist(p, bins = 50)"
   ]
  },
  {
   "cell_type": "code",
   "execution_count": 126,
   "metadata": {},
   "outputs": [],
   "source": [
    "# 2.9 & 2.10\n",
    "mldt = np.mean(np.abs(y_train - p_posterior > 0.5), axis = 0)"
   ]
  },
  {
   "cell_type": "code",
   "execution_count": 128,
   "metadata": {},
   "outputs": [
    {
     "data": {
      "image/png": "[encoded data removed]",
      "text/plain": [
       "<matplotlib.figure.Figure at 0x124ead0b8>"
      ]
     },
     "metadata": {},
     "output_type": "display_data"
    }
   ],
   "source": [
    "ppc_misclass = np.mean(np.abs(y_train - posterior_pred['obs_virginica']), axis = 0)\n",
    "plt.hist(ppc_misclass, bins = 50, alpha = 0.5, label= 'posterior_predictive');\n",
    "plt.hist(mldt, bins = 50, alpha = 0.5, label = 'posterior');\n",
    "plt.legend();"
   ]
  },
  {
   "cell_type": "code",
   "execution_count": 131,
   "metadata": {},
   "outputs": [],
   "source": [
    "# 2.11\n",
    "p_posterior_test = y_post(x_test, beta)\n",
    "ppc_misclass = np.mean(np.abs(y_test - np.random.binomial(1, p_posterior_test)), axis = 0)"
   ]
  },
  {
   "cell_type": "code",
   "execution_count": 132,
   "metadata": {
    "collapsed": true
   },
   "outputs": [],
   "source": [
    "mldt = np.mean(np.abs(y_test - np.random.binomial(1, p_posterior_test) > 0.5), axis = 0)"
   ]
  },
  {
   "cell_type": "code",
   "execution_count": 133,
   "metadata": {},
   "outputs": [
    {
     "data": {
      "image/png": "[encoded data removed]",
      "text/plain": [
       "<matplotlib.figure.Figure at 0x11ffc2160>"
      ]
     },
     "metadata": {},
     "output_type": "display_data"
    }
   ],
   "source": [
    "plt.hist(ppc_misclass, bins = 50, alpha = 0.5, label= 'posterior_predictive');\n",
    "plt.hist(mldt, bins = 50, alpha = 0.5, label = 'posterior');\n",
    "plt.legend();"
   ]
  },
  {
   "cell_type": "code",
   "execution_count": null,
   "metadata": {
    "collapsed": true
   },
   "outputs": [],
   "source": []
  },
  {
   "cell_type": "code",
   "execution_count": null,
   "metadata": {
    "collapsed": true
   },
   "outputs": [],
   "source": []
  },
  {
   "cell_type": "markdown",
   "metadata": {},
   "source": [
    "<div class=\"answer-separator\">\n",
    "------------------------\n",
    "</div>"
   ]
  },
  {
   "cell_type": "markdown",
   "metadata": {},
   "source": [
    "## Question 3 - Our Yelp Restaurant Review is in and the Fish is So Raw!"
   ]
  },
  {
   "cell_type": "markdown",
   "metadata": {},
   "source": [
    "**no coding required**\n",
    "\n",
    "In this course, we've spent a lot of time learning algorithms for performing inference on complex models. We've also spent time using these models to make decisions regarding our data. But in nearly every assignment, the model for the data is specified in the problem statement. In real life, the creative and, arguably, much more difficult task is to start with a broadly defined goal and then to customize or create a model which will meet this goal in some way. \n",
    "\n",
    "\n",
    "This homework problem is atypical in that it does not involve any programming or (necessarily) difficult mathematics/statistics. The process of answering these questions *seriously* will however give you an idea of how one might create or select a model for a particular application and your answers will help you with formalizing the model if and when you're called upon to do so.\n",
    "\n",
    "***Grading:*** *We want you to make a genuine effort to mold an ambiguous and broad real-life question into a concrete data science or machine learning problem without the pressure of getting the \"right answer\". As such, we will grade your answer to this homework question on a pass/fail basis. Any reasonable answer that demonstrates actual effort will be given a full grade.*\n",
    "\n",
    "We've compiled for you a fairly representative selection of [Yelp reviews](https://piazza.com/redirect/s3?bucket=uploads&prefix=attach%2Fjlo4e4ari3r4wd%2Fj9vjyzv62x149%2Fjoe92vh7ni6e%2Fyelp_reviews.zip for a (now closed) sushi restaurant called Ino's Sushi in San Francisco. Read the reviews and form an opinion regarding the various qualities of Ino's Sushi. Answer the following:\n",
    "\n",
    "3.1. If the task is to summarize the quality of a restaurant in a simple and intuitive way, what might be problematic with simply classifying this restaurant as simply \"good\" or \"bad\"? Justify your answers with specific examples from the dataset.\n",
    "\n",
    "3.2. For Ino's Sushi, categorize the food and the service, separately, as \"good\" or \"bad\" based on all the reviews in the dataset. Be as systematic as you can when you do this.\n",
    "\n",
    "  (**Hint:** Begin by summarizing each review. For each review, summarize the reviewer's opinion on two aspects of the restaurant: food and service. That is, generate a classification (\"good\" or \"bad\") for each aspect based on what the reviewer writes.) \n",
    "  \n",
    "3.3. Identify statistical weaknesses in breaking each review down into an opinion on the food and an opinion on the service. That is, identify types of reviews that make your method of summarizing the reviewer's optinion on the quality of food and service problemmatic, if not impossible. Use examples from your dataset to support your argument. \n",
    "\n",
    "3.4. Identify all the ways in which the task in 3.2 might be difficult for a machine to accomplish. That is, break down the classification task into simple self-contained subtasks and identify how each subtask can be accomplished by a machine (i.e. which area of machine learning, e.g. topic modeling, sentiment analysis etc, addressess this type of task).\n",
    "\n",
    "3.5. Now let us think of a different problem, a regression problem in which our aim is to predict and do inference on what rating a given user of Yelp might give a particular restaurant. How might you estimate the across-user quality of a restaurant from data? And how might you estimate the across-restaurant curmudgeonlyness of a user?\n",
    "\n",
    "3.6 Additionally, consider a \"space of latent factors\" where aspects of the user's taste interact with aspects of the restaurant. An example of such a factor might be the user's propensity to get emotional after having the perfect filet-mignon. How might you combine this information with that in 3.5 to improve your prediction and inference?"
   ]
  },
  {
   "cell_type": "markdown",
   "metadata": {},
   "source": [
    "3.1 different perspectives: food service\n",
    "\n",
    "3.3 mix of positive and negative comments\n",
    "\n",
    "3.4 for every sentence, LDA find topic, NLP find sentiment, \n",
    "    then weighted average every topic"
   ]
  },
  {
   "cell_type": "markdown",
   "metadata": {},
   "source": [
    "3.5 recommendation system -- alternative least square\n",
    "\n",
    "3.6 content based ..."
   ]
  },
  {
   "cell_type": "code",
   "execution_count": null,
   "metadata": {
    "collapsed": true
   },
   "outputs": [],
   "source": []
  },
  {
   "cell_type": "code",
   "execution_count": null,
   "metadata": {
    "collapsed": true
   },
   "outputs": [],
   "source": []
  },
  {
   "cell_type": "code",
   "execution_count": null,
   "metadata": {
    "collapsed": true
   },
   "outputs": [],
   "source": []
  },
  {
   "cell_type": "code",
   "execution_count": null,
   "metadata": {
    "collapsed": true
   },
   "outputs": [],
   "source": []
  },
  {
   "cell_type": "code",
   "execution_count": null,
   "metadata": {
    "collapsed": true
   },
   "outputs": [],
   "source": []
  },
  {
   "cell_type": "code",
   "execution_count": null,
   "metadata": {
    "collapsed": true
   },
   "outputs": [],
   "source": []
  },
  {
   "cell_type": "code",
   "execution_count": null,
   "metadata": {
    "collapsed": true
   },
   "outputs": [],
   "source": []
  },
  {
   "cell_type": "code",
   "execution_count": null,
   "metadata": {
    "collapsed": true
   },
   "outputs": [],
   "source": []
  },
  {
   "cell_type": "markdown",
   "metadata": {},
   "source": [
    "**Gratuitous Titular Reference**:  \n",
    "\n",
    "[Sushi is not raw fish](http://www.todayifoundout.com/index.php/2011/12/sushi-is-not-raw-fish)\n",
    "\n",
    "![](https://i.imgflip.com/pnawi.jpg)\n",
    "\n",
    "[More Gordon Ramsey memes](https://knowyourmeme.com/memes/people/gordon-ramsay)"
   ]
  },
  {
   "cell_type": "markdown",
   "metadata": {},
   "source": [
    "<div class=\"answer-separator\">\n",
    "------------------------\n",
    "</div>"
   ]
  }
 ],
 "metadata": {
  "anaconda-cloud": {},
  "kernel_info": {
   "name": "python3"
  },
  "kernelspec": {
   "display_name": "Python 3",
   "language": "python",
   "name": "python3"
  },
  "language_info": {
   "codemirror_mode": {
    "name": "ipython",
    "version": 3
   },
   "file_extension": ".py",
   "mimetype": "text/x-python",
   "name": "python",
   "nbconvert_exporter": "python",
   "pygments_lexer": "ipython3",
   "version": "3.6.6"
  },
  "nteract": {
   "version": "0.11.9"
  }
 },
 "nbformat": 4,
 "nbformat_minor": 2
}
