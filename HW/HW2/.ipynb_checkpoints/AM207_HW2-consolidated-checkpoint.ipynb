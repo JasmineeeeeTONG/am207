{
 "cells": [
  {
   "cell_type": "markdown",
   "metadata": {},
   "source": [
    "# AM207 Homework 2\n",
    "\n",
    "##### Data: wine_quality_missing.csv\n",
    "\n",
    "**Harvard University**<br>\n",
    "**Fall 2018**<br>\n",
    "**Instructors: Rahul Dave**<br>\n",
    "**Due Date: ** Saturday, September 22nd, 2018 at 11:59pm\n",
    "\n",
    "**Instructions:**\n",
    "\n",
    "- Upload your final answers in the form of a Jupyter notebook containing all work to Canvas.\n",
    "\n",
    "- Structure your notebook and your work to maximize readability.\n",
    "\n",
    "---\n",
    "\n",
    "**Michelle (Chia Chi) Ho, Jiejun Lu, Jiawen Tong**\n",
    "\n",
    "---"
   ]
  },
  {
   "cell_type": "code",
   "execution_count": 1,
   "metadata": {},
   "outputs": [],
   "source": [
    "import numpy as np\n",
    "import scipy.stats\n",
    "import scipy.special\n",
    "\n",
    "import matplotlib\n",
    "import matplotlib.pyplot as plt\n",
    "import matplotlib.mlab as mlab\n",
    "from matplotlib import cm\n",
    "import pandas as pd\n",
    "%matplotlib inline\n",
    "\n",
    "from math import factorial\n",
    "from IPython.display import display"
   ]
  },
  {
   "cell_type": "markdown",
   "metadata": {},
   "source": [
    "## Question 1: Give Me the Full Monte, Carlo Ancelotti\n",
    "\n",
    "**Coding required**\n",
    "\n",
    "In the quiet moments that transpire just before the sun rises that find us taking the walk of shame we can only send up quiet prayers to deities unknown that our path has not unknowingly taken us down the Boulevard of Broken Dreams (*Green Day*).  Along this road you'll find scattered the shattered hearts of formerly aspiring humorists -- the sorts of folk who might admire \"the giggle at a funeral\" (*Hozier*) distributed according to the function $\\heartsuit(\\theta) \\sim \\frac{ {\\rm sin^{24}}\\theta}{\\theta^2}$ from $0< \\theta< \\infty$ and otherwise.  As a current aspiring humorist, it is your job to try to integrate $\\heartsuit(\\theta)$ in order to size up the jar you'll take with you as you go heart collecting (*Christina Perri*).  Who do you think you are anyway?\n",
    "\n",
    "1.1. Visualize $\\heartsuit(\\theta)$.  Make sure your plot includes a title and axes labels.\n",
    "\n",
    "1.2. The domain of $\\heartsuit(\\theta)$ is unbounded.  The version of Monte Carlo that we've explored so far requires a bounded domain.  Make an argument that we can integrate this function over the bounded domain [0, M] and get an accurate result.  What value of M should you choose to get a result within 0.001 of the exact solution?\n",
    "\n",
    "1.3. Write a function `simulate_heart_collection` to estimate $\\int_{0}^{\\infty}\\heartsuit (\\theta) $ using the standard Monte Carlo method with $N=100000$.  Use the bounds you justified in 1.2.  What is your estimate?\n",
    "\n",
    "1.4. It turns out that integrals of the form $\\int_{0}^{\\infty} \\frac{ {\\rm sin}x^{2n}}{x^2} dx$ have the closed form solution $\\frac{\\pi}{2^{2n-1}} \\binom{2n-2}{n-1}$.  How accurate was your estimate?\n",
    "\n",
    "1.5. The teaching staff of AM 207 has gone on and on in class and lab about putting error bars on estimates and finding confidence intervals.  In order to do this you need to run your experiment a number of times. Repeat your estimation process 1000 times and plot a histogram of your results marking the exact answer and your estimate with a vertical line.  \n",
    "\n",
    "1.6. Based on your experiments, find the standard error of your estimate as well as a 95% confidence interval.  Was the true value of $\\int_{0}^{\\infty}\\heartsuit (\\theta)$ within the 95% confidence interval?\n",
    "\n",
    "1.7. It turns out that an appropriately chosen change of variables will allow you to estimate the integral on the part of the domain you truncated in 1.2 and 1.3.  Execute this change of variables and use monte carlo integration to evaluate $\\int_{M}^{\\infty}\\heartsuit (\\theta) $\n",
    "\n",
    "1.8. Based on your answer in 1.7 was your choice of M justified? "
   ]
  },
  {
   "cell_type": "markdown",
   "metadata": {},
   "source": [
    "### Answers"
   ]
  },
  {
   "cell_type": "markdown",
   "metadata": {},
   "source": [
    "<div class=\"answer-separator\">\n",
    "------------------------\n",
    "</div>"
   ]
  },
  {
   "cell_type": "markdown",
   "metadata": {},
   "source": [
    "<h4>1.1. Visualize $\\heartsuit(\\theta)$.  Make sure your plot includes a title and axes labels.</h4>"
   ]
  },
  {
   "cell_type": "code",
   "execution_count": 2,
   "metadata": {},
   "outputs": [
    {
     "data": {
      "image/png": "[encoded data removed]",
      "text/plain": [
       "<matplotlib.figure.Figure at 0x1169f0198>"
      ]
     },
     "metadata": {},
     "output_type": "display_data"
    }
   ],
   "source": [
    "x_lin = np.arange(1e-9, 20, 0.1)\n",
    "heart_x = np.power(np.sin(x_lin), 24) / x_lin**2\n",
    "\n",
    "fig, ax = plt.subplots(1, 1, figsize=(6, 4))\n",
    "ax.plot(x_lin, heart_x)\n",
    "ax.set_xlabel(r'$\\theta$', fontsize=14)\n",
    "ax.set_ylabel(r'$\\heartsuit(\\theta$)', fontsize=14)\n",
    "ax.set_title(r'Visualization of $\\heartsuit(\\theta$)', fontsize=14)\n",
    "plt.tight_layout()"
   ]
  },
  {
   "cell_type": "markdown",
   "metadata": {},
   "source": [
    "<div class=\"answer-separator\">\n",
    "------------------------\n",
    "</div>"
   ]
  },
  {
   "cell_type": "markdown",
   "metadata": {},
   "source": [
    "<h4>1.2. The domain of $\\heartsuit(\\theta)$ is unbounded.  The version of Monte Carlo that we've explored so far requires a bounded domain.  Make an argument that we can integrate this function over a bounded domain and get an accurate result.  What bounds should you choose to get a result within 0.001 of the exact solution?</h4>"
   ]
  },
  {
   "cell_type": "markdown",
   "metadata": {},
   "source": [
    "<div class=\"answer\">\n",
    "\n",
    "<br>\n",
    "$$\\int_0^\\infty \\heartsuit (\\theta) d\\theta\n",
    "= \\int_0^M \\heartsuit (\\theta) d\\theta + \\int_M^\\infty \\heartsuit (\\theta) d\\theta\n",
    "$$\n",
    "<br>\n",
    "$$ I = I_{lower} + I_{upper}\n",
    "$$\n",
    "<br>\n",
    "To satisfy $|I - I_{lower}| = |I_{upper}| < 0.001$, we need to ensure:\n",
    "$$\\int_M^\\infty \\heartsuit (\\theta) d\\theta \n",
    "= \\int_M^\\infty \\frac{sin^{24}\\theta}{\\theta^2} d\\theta\n",
    "< \\int_M^\\infty \\frac{1}{\\theta^2} d\\theta\n",
    "= -\\int_M^\\infty d(\\frac{1}{\\theta}) = \\frac{1}{M}\n",
    "$$\n",
    "<br>\n",
    "Therefore, $\\frac{1}{M} < 0.001$ gives one possible bounded domain for M: $M > 1000$.\n",
    "<br>\n",
    "<br>\n",
    "We chose $M=1001$ for the rest of this exercise.\n",
    "<br>\n",
    "\n",
    "</div>"
   ]
  },
  {
   "cell_type": "markdown",
   "metadata": {},
   "source": [
    "<div class=\"answer-separator\">\n",
    "------------------------\n",
    "</div>"
   ]
  },
  {
   "cell_type": "markdown",
   "metadata": {},
   "source": [
    "<h4>1.3. Write a function `simulate_heart_collection` to estimate $\\int_{0}^{\\infty}\\heartsuit (\\theta) $ using the standard Monte Carlo method with $N=100000$.  Use the bounds you justified in 1.2.  What is your estimate?</h4>"
   ]
  },
  {
   "cell_type": "code",
   "execution_count": 3,
   "metadata": {},
   "outputs": [
    {
     "name": "stdout",
     "output_type": "stream",
     "text": [
      "the MC estimate:  0.2631447405632876\n"
     ]
    }
   ],
   "source": [
    "def simulate_heart_collection(n, M, N=100000):\n",
    "    x_unif = np.random.uniform(low=1e-9, high=M, size=N)\n",
    "    heart_x_unif = np.power(np.sin(x_unif), 2*n) / (x_unif**2)\n",
    "    return M * np.sum(heart_x_unif) / N \n",
    "\n",
    "np.random.seed(1)\n",
    "MC_integral = simulate_heart_collection(n=12, M=1001)\n",
    "print('the MC estimate: ', MC_integral)"
   ]
  },
  {
   "cell_type": "markdown",
   "metadata": {},
   "source": [
    "<div class=\"answer-separator\">\n",
    "------------------------\n",
    "</div>"
   ]
  },
  {
   "cell_type": "markdown",
   "metadata": {},
   "source": [
    "<h4>1.4. It turns out that integrals of the form $\\int_{0}^{\\infty} \\frac{ {\\rm sin}x^{2n}}{x^2} dx$ have the closed form solution $\\frac{\\pi}{2^{2n-1}} \\binom{2n-2}{n-1}$.  How accurate was your estimate?</h4>"
   ]
  },
  {
   "cell_type": "code",
   "execution_count": 4,
   "metadata": {},
   "outputs": [
    {
     "name": "stdout",
     "output_type": "stream",
     "text": [
      "Exact integral:  0.26418924198235927\n",
      "MC estimate:  0.2631447405632876\n",
      "Absolute error:  0.0010445014190716417\n",
      "Relative error in %:  0.39536107194757997\n"
     ]
    }
   ],
   "source": [
    "def n_choose_k(n, k):\n",
    "    return factorial(n) / factorial(k) / factorial(n-k)\n",
    "\n",
    "n = 12\n",
    "exact_integral = np.pi * n_choose_k(2*n-2, n-1) / np.power(2, 2*n-1)\n",
    "\n",
    "print('Exact integral: ', exact_integral)\n",
    "print('MC estimate: ', MC_integral)\n",
    "print('Absolute error: ', np.abs(exact_integral-MC_integral))   \n",
    "print('Relative error in %: ', np.abs(exact_integral-MC_integral)/exact_integral * 100)"
   ]
  },
  {
   "cell_type": "markdown",
   "metadata": {},
   "source": [
    "<div class=\"answer\">\n",
    "The absolute error of our estimate is 0.001;\n",
    "<br>\n",
    "The relative error of our estimate with regard to the exact intergral is 0.395%\n",
    "</div>"
   ]
  },
  {
   "cell_type": "markdown",
   "metadata": {},
   "source": [
    "<div class=\"answer-separator\">\n",
    "------------------------\n",
    "</div>"
   ]
  },
  {
   "cell_type": "markdown",
   "metadata": {},
   "source": [
    "<h4>1.5. The teaching staff of AM 207 has gone on and on in class and lab about putting error bars on estimates and finding confidence intervals.  In order to do this you need to run your experiment a number of times.  Repeat your estimation process 1000 times and plot a histogram of your results marking the exact answer and your estimate with a vertical line.</h4>"
   ]
  },
  {
   "cell_type": "code",
   "execution_count": 5,
   "metadata": {},
   "outputs": [],
   "source": [
    "# repeat estimation for 1000 times\n",
    "np.random.seed(1)\n",
    "n_sim = 1000\n",
    "MC_integral_estimates = np.zeros((n_sim,))\n",
    "for i in range(n_sim):\n",
    "    MC_integral_estimates[i] = simulate_heart_collection(n=12, M=1001)"
   ]
  },
  {
   "cell_type": "code",
   "execution_count": 6,
   "metadata": {},
   "outputs": [
    {
     "data": {
      "image/png": "[encoded data removed]",
      "text/plain": [
       "<matplotlib.figure.Figure at 0x1177bb4a8>"
      ]
     },
     "metadata": {},
     "output_type": "display_data"
    }
   ],
   "source": [
    "# plot estimates in a histogram, overlay \n",
    "fig, ax = plt.subplots(1, 1, figsize=(7, 5))\n",
    "ax.hist(MC_integral_estimates, normed=True, bins=20, alpha=0.5)\n",
    "ax.axvline(x=exact_integral, label='exact integral', color='r', alpha=0.8)\n",
    "ax.axvline(x=MC_integral, label='MC integral', color='b')\n",
    "\n",
    "ax.set_title('Histogram (normalized) of MC integral estimates', fontsize=14)\n",
    "ax.set_xlabel('MC estimated integral', fontsize=14)\n",
    "ax.set_ylabel('frequency', fontsize=14)\n",
    "plt.legend()\n",
    "plt.tight_layout()"
   ]
  },
  {
   "cell_type": "markdown",
   "metadata": {},
   "source": [
    "<div class=\"answer-separator\">\n",
    "------------------------\n",
    "</div>"
   ]
  },
  {
   "cell_type": "markdown",
   "metadata": {},
   "source": [
    "<h4>1.6. Based on your experiments, find the standard error of your estimate as well as a 95% confidence interval.  Was the true value of $\\int_{0}^{\\infty}\\heartsuit (\\theta)$ within the 95% confidence interval?</h4>"
   ]
  },
  {
   "cell_type": "code",
   "execution_count": 7,
   "metadata": {},
   "outputs": [
    {
     "name": "stdout",
     "output_type": "stream",
     "text": [
      "Standard error of the MC estimate:  0.025836322654947196\n",
      "The 95% confidence interval: [0.21116177650256676, 0.31383570365739005] \n",
      "True exact integral value:  0.26418924198235927\n"
     ]
    }
   ],
   "source": [
    "print('Standard error of the MC estimate: ', np.std(MC_integral_estimates))\n",
    "\n",
    "MC_estimate_percentile = np.percentile(MC_integral_estimates, [2.5, 97.5])\n",
    "print('The 95% confidence interval: [{}, {}] '.format(MC_estimate_percentile[0], MC_estimate_percentile[1]))\n",
    "\n",
    "print('True exact integral value: ', exact_integral)"
   ]
  },
  {
   "cell_type": "markdown",
   "metadata": {},
   "source": [
    "<div class=\"answer\">\n",
    "\n",
    "<br>\n",
    "The standard error of the estimates is 0.026, and the true value 0.264 is within the 95% confidence interval $[0.211, 0.314]$.\n",
    "\n",
    "</div>"
   ]
  },
  {
   "cell_type": "markdown",
   "metadata": {},
   "source": [
    "<div class=\"answer-separator\">\n",
    "------------------------\n",
    "</div>"
   ]
  },
  {
   "cell_type": "markdown",
   "metadata": {},
   "source": [
    "<h4>1.7. It turns out that an appropriately chosen change of variables will allow you to estimate the integral on the part of the domain you truncated in 1.2 and 1.3.  Execute this change of variables and use monte carlo integration to evaluate $\\int_{M}^{\\infty}\\heartsuit (\\theta) $\n",
    "</h4>"
   ]
  },
  {
   "cell_type": "markdown",
   "metadata": {},
   "source": [
    "<div class=\"answer\">\n",
    "\n",
    "<br>\n",
    "Let $x = \\frac{1}{\\theta}$, then\n",
    "$$\\int_M^\\infty \\heartsuit (\\theta) d\\theta = \\int_{\\frac{1}{M}}^0 \\frac{(sin\\frac{1}{x})^{2n}}{\\frac{1}{x^2}} d(\\frac{1}{x})\n",
    "= \\int_0^{\\frac{1}{M}} (sin\\frac{1}{x})^{2n} dx\n",
    "$$\n",
    "<br>\n",
    "Therefore, we can apply the MC method on the bounded domain $[0, \\frac{1}{M}]$, on the function $(sin\\frac{1}{x})^{2n}$. (n = 12)\n",
    "\n",
    "</div>"
   ]
  },
  {
   "cell_type": "code",
   "execution_count": 8,
   "metadata": {},
   "outputs": [
    {
     "name": "stdout",
     "output_type": "stream",
     "text": [
      "the MC estimate:  0.0001625818011973657\n"
     ]
    }
   ],
   "source": [
    "def transformed_simulate_heart_collection(n, M, N=100000):\n",
    "    x_unif_new = np.random.uniform(low=1e-9, high=1/M, size=N)\n",
    "    heart_x_unif_new = np.power(np.sin(1/x_unif_new), 2*n)\n",
    "    return (1/M) * np.sum(heart_x_unif_new) / N\n",
    "\n",
    "np.random.seed(1)\n",
    "MC_integral_new = transformed_simulate_heart_collection(n=12, M=1001)\n",
    "print('the MC estimate: ', MC_integral_new)"
   ]
  },
  {
   "cell_type": "code",
   "execution_count": 9,
   "metadata": {},
   "outputs": [
    {
     "data": {
      "text/plain": [
       "0.0008016279818675977"
      ]
     },
     "execution_count": 9,
     "metadata": {},
     "output_type": "execute_result"
    }
   ],
   "source": [
    "# repeat estimation for 1000 times\n",
    "np.random.seed(1)\n",
    "n_sim = 1000\n",
    "MC_integral_estimates_new = np.zeros((n_sim,))\n",
    "for i in range(n_sim):\n",
    "    MC_integral_estimates_new[i] = transformed_simulate_heart_collection(n=12, M=200)\n",
    "\n",
    "np.mean(MC_integral_estimates_new)    "
   ]
  },
  {
   "cell_type": "markdown",
   "metadata": {},
   "source": [
    "<div class=\"answer-separator\">\n",
    "------------------------\n",
    "</div>"
   ]
  },
  {
   "cell_type": "markdown",
   "metadata": {},
   "source": [
    "<h4>1.8. Based on your answer in 1.7 was your choice of M justified?\n",
    "</h4>"
   ]
  },
  {
   "cell_type": "markdown",
   "metadata": {},
   "source": [
    "<div class=\"answer\">\n",
    "\n",
    "<br>\n",
    "It is observed that the using $M = 1001$ produces $\\int_M^\\infty \\heartsuit (\\theta) d\\theta \\approx 0.0001$, almost 10x smaller than 0.001. And we tested to have observed that $M \\approx 200$ can already achieve an absolute error within 0.001. \n",
    "<br>\n",
    "<br>\n",
    "That being said, our choice of $M > 1000$ is still justified in that this guarantees a loose bound for the absolute error $<$ 0.001. \n",
    "\n",
    "</div>"
   ]
  },
  {
   "cell_type": "markdown",
   "metadata": {},
   "source": [
    "<div class=\"answer-separator\">\n",
    "------------------------\n",
    "</div>"
   ]
  },
  {
   "cell_type": "markdown",
   "metadata": {},
   "source": [
    "## Question 2: Rally to Me! \n",
    "\n",
    "**Some Coding required**\n",
    "\n",
    "Suppose you observe the following data set $\\mathbf{x}^{(0)} = (0.5, 2.5), \\mathbf{x}^{(1)} = (3.2, 1.3), \\mathbf{x}^{(2)} = (2.72, 5.84), \\mathbf{x}^{(3)}= (10.047, 0.354)$. By convention, for any vector $\\mathbf{x}$, we will denote the first component of $\\mathbf{x}$ by $x_{1}$ and the second component by $x_{2}$. Suppose that the data is drawn from the same two-dimensional probability distribution with pdf $f_X$, that is, $\\mathbf{x}^{(i)} \\overset{iid}{\\sim} f_X$, where\n",
    "$$\n",
    "f_X(\\mathbf{x}) =  4\\lambda_1^2 x_{1}x_{2} \\mathrm{exp} \\left\\{-\\lambda_0 (x^2_{1} + x^2_{2}) \\right\\}.\n",
    "$$\n",
    "You should assume that $\\lambda_1, \\lambda_0 > 0$ and that $f_X$ is supported on the nonnegative quandrant of $\\mathbb{R}^2$ (i.e. $f_X$ is zero when either component is negative). \n",
    "\n",
    "2.1. What are the values for $\\lambda_0$ and $\\lambda_1$ that maximize the likelihood of the observed data?  **Support your answer with full and rigorous analytic derivations.**\n",
    "\n",
    "2.2. Visualize the data along with the distribution you determined in 2.1 (in two dimensions or three).\n"
   ]
  },
  {
   "cell_type": "markdown",
   "metadata": {},
   "source": [
    "### Answers"
   ]
  },
  {
   "cell_type": "markdown",
   "metadata": {},
   "source": [
    "<div class=\"answer-separator\">\n",
    "------------------------\n",
    "</div>"
   ]
  },
  {
   "cell_type": "markdown",
   "metadata": {},
   "source": [
    "<h4>2.1. What are the values for $\\lambda_0$ and $\\lambda_1$ that maximize the likelihood of the observed data?</h4>"
   ]
  },
  {
   "cell_type": "markdown",
   "metadata": {},
   "source": [
    "<div class=\"answer\">\n",
    "<br>\n",
    "$$\n",
    "f_X(\\mathbf{x}) =  4\\lambda_1^2 x_{1}x_{2} \\mathrm{exp} \\left\\{-\\lambda_0 (x^2_{1} + x^2_{2}) \\right\\}.\n",
    "$$ \n",
    "To make $f_X$ a valid distribution density, we need\n",
    "$$\\iint f_X(\\mathbf{x}) dx_1dx_2=1$$\n",
    "\n",
    "Take polar coordinates transformation, $x_1 = r cos\\theta$, $x_2 = r sin\\theta$, the equivalent region for the nonnegative quandrant of $\\mathbb{R}^2$ is\n",
    "$$\n",
    "\\left\\{\n",
    "    \\begin{array}{ll}\n",
    "      r >0 \\\\\n",
    "      0 < \\theta \\leq \\frac{\\pi}{2}\n",
    "    \\end{array}\n",
    "\\right.\n",
    "$$\n",
    "<br>\n",
    "$$\n",
    "\\iint f_X(\\mathbf{x}) dx_1dx_2 = \\iint 4\\lambda_1^2 r^2 sin\\theta cos\\theta e^{-\\lambda_0 r^2} rd\\theta dr\n",
    "$$\n",
    "$$\n",
    "= 4\\lambda_1^2 \\int_0^{\\frac{\\pi}{2}}sin\\theta cos\\theta d\\theta \\int_0^\\infty r^2 e^{-\\lambda_0 r^2}rdr\n",
    "$$\n",
    "$$\n",
    "= 4\\lambda_1^2 \\int_0^{\\frac{\\pi}{2}}sin\\theta d(sin\\theta) \\frac{1}{2}\\int_0^\\infty r^2 e^{-\\lambda_0 r^2}d(r^2)\n",
    "$$\n",
    "$$\n",
    "= (\\lambda_1^2 sin^2\\theta \\Big|_0^{\\frac{\\pi}{2}}) * \\frac{1}{-\\lambda_0} (r^2 e^{-\\lambda_0 r^2} \\Big|_0^\\infty - \\int_0^\\infty e^{-\\lambda_0 r^2 d(r^2)})\n",
    "$$\n",
    "$$\n",
    "= \\frac{\\lambda_1^2}{-\\lambda_0} (0 - \\frac{1}{-\\lambda_0} e^{-\\lambda_0 r^2} \\Big|_0^\\infty)\n",
    "= \\frac{\\lambda_1^2}{\\lambda_0^2} = 1\n",
    "$$\n",
    "\n",
    "Therefore $\\lambda_0 = \\lambda_1 = \\lambda >0$.\n",
    "\n",
    "The likelihood of the data is \n",
    "$$\n",
    "L(D) = \\prod_{i=1}^N f_X(x_1, x_2)\n",
    "$$\n",
    "\n",
    "Take log,\n",
    "$$\n",
    "\\log{[L(D)]} = \\sum_{i=1}^N \\log{[4\\lambda^2 x_{i1} x_{i2} e^{-\\lambda (x^2_{i1} + x^2_{i2})}]}\n",
    "$$\n",
    "$$\n",
    "= N \\log{(4 \\lambda)} + \\sum_{i=1}^N \\log{(x_{i1} x_{i2})} - \\lambda \\sum_{i=1}^N(x_{i1}^2 + x_{i2}^2)\n",
    "$$\n",
    "$$\n",
    "\\frac{\\partial \\log{[L(D)]}}{\\partial \\lambda} = \\frac{2N}{\\lambda} - \\sum_{i=1}^N (x_{i1}^2 + x_{i2}^2) = 0\n",
    "$$\n",
    "Therefore,\n",
    "$$\n",
    "\\lambda_{MLE} = \\frac{2N}{\\sum_{i=1}^N (x_{i1}^2 + x_{i2}^2)}\n",
    "$$\n",
    "<br>\n",
    "\n",
    "</div>"
   ]
  },
  {
   "cell_type": "code",
   "execution_count": 10,
   "metadata": {},
   "outputs": [
    {
     "data": {
      "text/plain": [
       "0.049688970337392765"
      ]
     },
     "execution_count": 10,
     "metadata": {},
     "output_type": "execute_result"
    }
   ],
   "source": [
    "N = 4\n",
    "X = np.array([\n",
    "    [0.5, 2.5],\n",
    "    [3.2, 1.3],\n",
    "    [2.72, 5.84],\n",
    "    [10.047, 0.354]\n",
    "])\n",
    "\n",
    "lambda_mle = 2*N / np.sum(X**2)\n",
    "lambda_mle"
   ]
  },
  {
   "cell_type": "markdown",
   "metadata": {},
   "source": [
    "<div class=\"answer-separator\">\n",
    "------------------------\n",
    "</div>"
   ]
  },
  {
   "cell_type": "markdown",
   "metadata": {},
   "source": [
    "<h4>2.2. Visualize the data along with the distribution you determined in 2.1 (in two dimensions or three).</h4>"
   ]
  },
  {
   "cell_type": "code",
   "execution_count": 11,
   "metadata": {},
   "outputs": [
    {
     "data": {
      "image/png": "[encoded data removed]",
      "text/plain": [
       "<matplotlib.figure.Figure at 0x1a20f5ef28>"
      ]
     },
     "metadata": {},
     "output_type": "display_data"
    }
   ],
   "source": [
    "x_range = np.arange(0, 12, 0.1)\n",
    "y_range = np.arange(0, 12, 0.1)\n",
    "xx, yy = np.meshgrid(x_range, y_range)\n",
    "zz = 4*lambda_mle**2*xx*yy*np.exp(-lambda_mle*(xx**2+yy**2))\n",
    "\n",
    "fig, ax = plt.subplots(1, 1, figsize=(5, 5))\n",
    "ax.contour(xx, yy, zz)\n",
    "ax.plot(X[0,0], X[0,1], 'ro')\n",
    "ax.plot(X[1,0], X[1,1], 'ro')\n",
    "ax.plot(X[2,0], X[2,1], 'ro')\n",
    "ax.plot(X[3,0], X[3,1], 'ro')\n",
    "ax.set_xlabel(r'$x_1$', fontsize=14)\n",
    "ax.set_ylabel(r'$x_2$', fontsize=14)\n",
    "ax.set_title('Distribution 2D Contour Plot', fontsize=14)\n",
    "plt.tight_layout()"
   ]
  },
  {
   "cell_type": "markdown",
   "metadata": {},
   "source": [
    "<div class=\"answer-separator\">\n",
    "------------------------\n",
    "</div>"
   ]
  },
  {
   "cell_type": "markdown",
   "metadata": {},
   "source": [
    "## Question 3: Still Missing! \n",
    "\n",
    "**Coding required**\n",
    "\n",
    "Recall from Homework 1 Question 2 that we explored working with missing data using the wine quality dataset from the UCI Machine Learning Repository.  Re-Read the data in the `wine_quality_missing.csv` into a pandas dataframe and store the dataframe in the variable `wine_df`. \n",
    "\n",
    "3.1. Drop impute `wine_df` and re-calculate estimates of the mean and standard deviation of the values of the Ash feature in the drop imputed dataset.\n",
    "\n",
    "3.2. Use non-parametric bootstrap on the drop imputed dataset to find the standard errors for both your mean and standard deviation estimates.\n",
    "\n",
    "3.3. Mean impute `wine_df` and re-calculate estimates of the mean and standard deviation of the values of the Ash feature in the mean imputed dataset.\n",
    "\n",
    "3.4. Use non-parametric bootstrap on the mean imputed dataset to find the standard errors for both your mean and standard deviation estimates.\n",
    "\n",
    "3.5. Compare the standard errors between the two different types of imputation.  Do they differ?  If so what might be the cause of the difference?\n"
   ]
  },
  {
   "cell_type": "markdown",
   "metadata": {},
   "source": [
    "### Answers"
   ]
  },
  {
   "cell_type": "markdown",
   "metadata": {},
   "source": [
    "<div class=\"answer-separator\">\n",
    "------------------------\n",
    "</div>"
   ]
  },
  {
   "cell_type": "markdown",
   "metadata": {},
   "source": [
    "<h4>3.1. Drop impute `wine_df` and re-calculate estimates of the mean and standard deviation of the values of the Ash feature in the drop imputed dataset.</h4>"
   ]
  },
  {
   "cell_type": "code",
   "execution_count": 12,
   "metadata": {},
   "outputs": [
    {
     "name": "stdout",
     "output_type": "stream",
     "text": [
      "=== Before drop imputation ===\n",
      "# observations: 178\n",
      "mean = 2.366217948717948, std = 0.2832059388586288\n",
      "\n",
      "=== After drop imputation ===\n",
      "# observations: 43\n",
      "mean = 2.369767441860465, std = 0.3032324926999321\n"
     ]
    }
   ],
   "source": [
    "# read data\n",
    "wine_df = pd.read_csv('wine_quality_missing.csv')\n",
    "\n",
    "# before dropping nans\n",
    "print('=== Before drop imputation ===')\n",
    "print('# observations:', wine_df.shape[0])\n",
    "print('mean = {}, std = {}'.format(wine_df['Ash'].mean(), wine_df['Ash'].std()))\n",
    "\n",
    "# drop nan\n",
    "wine_drop = wine_df.dropna()\n",
    "print('\\n=== After drop imputation ===')\n",
    "print('# observations:', wine_drop.shape[0]) \n",
    "\n",
    "# mean, std\n",
    "print('mean = {}, std = {}'.format(wine_drop['Ash'].mean(), wine_drop['Ash'].std()))"
   ]
  },
  {
   "cell_type": "markdown",
   "metadata": {},
   "source": [
    "<div class=\"answer\">\n",
    "\n",
    "<br>\n",
    "After drop imputation,\n",
    "<br>\n",
    "<br>mean of Ash: 2.369767441860465 \n",
    "<br>standard deviation of Ash: 0.3032324926999321\n",
    "<br>\n",
    "\n",
    "</div>"
   ]
  },
  {
   "cell_type": "markdown",
   "metadata": {},
   "source": [
    "<div class=\"answer-separator\">\n",
    "------------------------\n",
    "</div>"
   ]
  },
  {
   "cell_type": "markdown",
   "metadata": {},
   "source": [
    "<h4>3.2. Use non-parametric bootstrap on the drop imputed dataset to find the standard errors for both your mean and standard deviation estimates.</h4>"
   ]
  },
  {
   "cell_type": "code",
   "execution_count": 13,
   "metadata": {},
   "outputs": [
    {
     "name": "stdout",
     "output_type": "stream",
     "text": [
      "Standard error for mean estimates:  0.04607327866876724\n",
      "Standard error for std estimates:  0.037225828025113046\n"
     ]
    }
   ],
   "source": [
    "np.random.seed(2)\n",
    "ash_drop_imputed_np_samples = np.random.choice(wine_drop['Ash'].values, \n",
    "                                               size=(10000, wine_drop.shape[0]), \n",
    "                                               replace=True)\n",
    "print('Standard error for mean estimates: ', np.std(np.mean(ash_drop_imputed_np_samples, axis=1)))\n",
    "print('Standard error for std estimates: ', np.std(np.std(ash_drop_imputed_np_samples, axis=1)))"
   ]
  },
  {
   "cell_type": "markdown",
   "metadata": {},
   "source": [
    "<div class=\"answer\">\n",
    "\n",
    "<br>\n",
    "After drop imputation, the standard error from non-parametric bootstrapping are:\n",
    "<br>\n",
    "<br>for mean: 0.04607327866876724\n",
    "<br>for standard deviation: 0.037225828025113046\n",
    "<br>\n",
    "</div>"
   ]
  },
  {
   "cell_type": "markdown",
   "metadata": {},
   "source": [
    "<div class=\"answer-separator\">\n",
    "------------------------\n",
    "</div>"
   ]
  },
  {
   "cell_type": "markdown",
   "metadata": {},
   "source": [
    "<h4>3.3. Mean impute `wine_df` and re-calculate estimates of the mean and standard deviation of the values of the Ash feature in the mean imputed dataset.</h4>"
   ]
  },
  {
   "cell_type": "code",
   "execution_count": 14,
   "metadata": {},
   "outputs": [
    {
     "name": "stdout",
     "output_type": "stream",
     "text": [
      "=== After mean imputation ===\n",
      "# observations: 178\n",
      "mean = 2.36621794871795, std = 0.2650217834532965\n"
     ]
    }
   ],
   "source": [
    "# mean imputation\n",
    "wine_mean_imputed = wine_df.fillna(np.mean(wine_df))\n",
    "\n",
    "print('=== After mean imputation ===')\n",
    "print('# observations:', wine_mean_imputed.shape[0]) \n",
    "\n",
    "# mean, std\n",
    "print('mean = {}, std = {}'.format(wine_mean_imputed['Ash'].mean(), wine_mean_imputed['Ash'].std()))"
   ]
  },
  {
   "cell_type": "markdown",
   "metadata": {},
   "source": [
    "<div class=\"answer\">\n",
    "\n",
    "<br>\n",
    "After mean imputation,\n",
    "<br>\n",
    "<br>mean of Ash: 2.36621794871795\n",
    "<br>standard deviation of Ash: 0.2650217834532965\n",
    "<br>\n",
    "\n",
    "</div>"
   ]
  },
  {
   "cell_type": "markdown",
   "metadata": {},
   "source": [
    "<div class=\"answer-separator\">\n",
    "------------------------\n",
    "</div>"
   ]
  },
  {
   "cell_type": "markdown",
   "metadata": {},
   "source": [
    "<h4>3.4. Use non-parametric bootstrap on the mean imputed dataset to find the standard errors for both your mean and standard deviation estimates.</h4>"
   ]
  },
  {
   "cell_type": "code",
   "execution_count": 15,
   "metadata": {},
   "outputs": [
    {
     "name": "stdout",
     "output_type": "stream",
     "text": [
      "Standard error for mean estimates:  0.019806498826119158\n",
      "Standard error for std estimates:  0.01870159138778509\n"
     ]
    }
   ],
   "source": [
    "np.random.seed(2)\n",
    "ash_mean_imputed_np_samples = np.random.choice(wine_mean_imputed['Ash'].values, \n",
    "                                               size=(10000, wine_mean_imputed.shape[0]), \n",
    "                                               replace=True)\n",
    "print('Standard error for mean estimates: ', np.std(np.mean(ash_mean_imputed_np_samples, axis=1)))\n",
    "print('Standard error for std estimates: ', np.std(np.std(ash_mean_imputed_np_samples, axis=1)))"
   ]
  },
  {
   "cell_type": "markdown",
   "metadata": {},
   "source": [
    "<div class=\"answer\">\n",
    "\n",
    "<br>\n",
    "After mean imputation, the standard error from non-parametric bootstrapping are:\n",
    "<br>\n",
    "<br>for mean: 0.019806498826119158\n",
    "<br>for standard deviation: 0.01870159138778509\n",
    "<br>\n",
    "\n",
    "</div>"
   ]
  },
  {
   "cell_type": "markdown",
   "metadata": {},
   "source": [
    "<div class=\"answer-separator\">\n",
    "------------------------\n",
    "</div>"
   ]
  },
  {
   "cell_type": "markdown",
   "metadata": {},
   "source": [
    "<h4>3.5. Compare the standard errors between the two different types of imputation.  Do they differ?  If so what might be the cause of the difference?</h4>"
   ]
  },
  {
   "cell_type": "markdown",
   "metadata": {},
   "source": [
    "<div class=\"answer\">\n",
    "\n",
    "<br>\n",
    "Mean imputation gives smaller standard error than drop imputation for both mean and standard deviation estimates. Both mean and drop imputations keep the imputed mean unchanged, but mean imputation reduces the variance for the same amount of data by artificially replacing the missing observations with the same mean value. This causes the bootstrapped samples to have less variance in both their mean and standard deviation estimates.\n",
    "<br>\n",
    "\n",
    "</div>"
   ]
  },
  {
   "cell_type": "markdown",
   "metadata": {},
   "source": [
    "In addition, there are more observations (rows) in the mean-imputed dataframe compared to the drop-imputed dataframe. Therefore, there are more bootstrapped samples per simulation when bootstrapping from the mean-imputed dataframe compared to when bootstrapping from the drop-imputed dataframe. Based on central limit theorem, the standard error of the samples in a given simulation scales with a factor of $\\frac{1}{\\sqrt n}$. Since n is bigger in the mean-imputed dataframe, the variance of estimates from the mean-imputed dataframe is smaller."
   ]
  },
  {
   "cell_type": "markdown",
   "metadata": {},
   "source": [
    "<div class=\"answer-separator\">\n",
    "------------------------\n",
    "</div>"
   ]
  }
 ],
 "metadata": {
  "anaconda-cloud": {},
  "kernel_info": {
   "name": "python3"
  },
  "kernelspec": {
   "display_name": "Python 3",
   "language": "python",
   "name": "python3"
  },
  "language_info": {
   "codemirror_mode": {
    "name": "ipython",
    "version": 3
   },
   "file_extension": ".py",
   "mimetype": "text/x-python",
   "name": "python",
   "nbconvert_exporter": "python",
   "pygments_lexer": "ipython3",
   "version": "3.6.4"
  },
  "nteract": {
   "version": "0.11.7"
  }
 },
 "nbformat": 4,
 "nbformat_minor": 2
}
