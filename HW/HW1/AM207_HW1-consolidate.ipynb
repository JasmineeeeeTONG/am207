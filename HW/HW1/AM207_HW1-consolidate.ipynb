{
 "cells": [
  {
   "cell_type": "markdown",
   "metadata": {},
   "source": [
    "# AM207 Homework 1\n",
    "**Harvard University**<br>\n",
    "**Fall 2018**<br>\n",
    "**Instructors: Rahul Dave**<br>\n",
    "**Due Date: ** Saturday, September 15th, 2018 at 11:59pm\n",
    "\n",
    "##### Data: wine_quality_missing.csv\n",
    "\n",
    "\n",
    "**Instructions:**\n",
    "\n",
    "- Upload your final answers as well as your iPython notebook containing all work to Canvas.\n",
    "\n",
    "- Structure your notebook and your work to maximize readability.\n",
    "\n",
    "---\n",
    "\n",
    "**Michelle (Chia Chi) Ho, Jiejun Lu, Jiawen Tong**"
   ]
  },
  {
   "cell_type": "code",
   "execution_count": 1,
   "metadata": {},
   "outputs": [
    {
     "name": "stderr",
     "output_type": "stream",
     "text": [
      "/anaconda3/lib/python3.6/site-packages/seaborn/apionly.py:6: UserWarning: As seaborn no longer sets a default style on import, the seaborn.apionly module is deprecated. It will be removed in a future version.\n",
      "  warnings.warn(msg, UserWarning)\n"
     ]
    }
   ],
   "source": [
    "import numpy as np\n",
    "import scipy.stats\n",
    "import matplotlib\n",
    "import matplotlib.pyplot as plt\n",
    "import matplotlib.mlab as mlab\n",
    "from matplotlib import cm\n",
    "import pandas as pd\n",
    "%matplotlib inline\n",
    "\n",
    "import seaborn.apionly as sns\n",
    "from IPython.display import display\n",
    "from scipy.stats import norm\n",
    "np.random.seed(911)"
   ]
  },
  {
   "cell_type": "markdown",
   "metadata": {},
   "source": [
    "## Question 1: Don't Be Sensitive, We're Looking For False Positivity\n",
    "\n",
    "**Coding not required**\n",
    "\n",
    "As the U.S. aims to increase early identification and treatment of people with HIV, a greater focus has been placed on determining the accuracy of HIV tests in real-world settings in order to better identify individuals during the early (acute) stages of infection when transmission risk is especially high.  In order to quantify this, researchers from the University of California, San Francisco conducted a review of over 21,234 HIV tests given between the years 2003 and 2008 in some of the city's highest prevalence populations.  Two of the tests included in the study -- the OraQuick Advance Blood Rapid Antibody Test (a 3rd generation fingerstick blood test we'll henceforth call the **BRT**) and the OraQuick Advance Saliva Rapid Antibody Test (a 3rd generation saliva test we'll henceforth call the **SRT**) -- can be considered Rapidly Administered tests.  According to Wikipedia, the overall prevalence of adult HIV in the United States is 0.3%\n",
    "\n",
    "You and your partner decide to undergo tests for HIV and the two of you are administered the SRT at an HIV screening clinic.  You're aware that the test you've been administered (one of the tests featured in the study) has a sensitivity (true positive rate) of 86.6% and a specificity (true negative rate) of 98.6%.\n",
    "\n",
    "1.1. In the unfortunate event that your partner tests positive what is the probability that he/she has HIV?\n",
    "\n",
    "1.2. Should you be concerned enough to ask for further testing or treatment for your partner?  Justify your answer quantitatively.\n",
    "\n",
    "1.3. The medical staff at the screening clinic decides to independently administer the BRT as it is the only other test they can administer on site.  Based on the UCSF study above, you're aware that this test has a sensitivity (true positive rate) of 91.9% and a specificity of 99.6%.  What is the probability that your partner has the HIV if both tests come up positive (Make the assumption that the independent administration means that the tests are independent of each other)?\n",
    "\n",
    "It turns out the screening clinic didn't have the second test and you and your partner were only able to be administered the SRT. However, on your way home you're reminded that your partner has spent almost all his/her life in the Bahamas where the prevalence of adult HIV is 3.3%.\n",
    "\n",
    "1.4. What is the probability that your Bahamian partner has HIV given that he/she received a positive test result on the SRT?\n",
    "\n",
    "1.5. How does the new information quantifiably affect your decision of whether you should  be concerned enough to ask for treatment or testing for your partner?\n",
    "\n",
    "*Make sure to justify your decisions using your calculations.*"
   ]
  },
  {
   "cell_type": "markdown",
   "metadata": {},
   "source": [
    "**Solution**:"
   ]
  },
  {
   "cell_type": "markdown",
   "metadata": {},
   "source": [
    "<div class=\"answer-separator\">\n",
    "------------------------\n",
    "</div>"
   ]
  },
  {
   "cell_type": "markdown",
   "metadata": {},
   "source": [
    "<h4>1.1. In the unfortunate event that your partner tests positive what is the probability that he/she has HIV?</h4>"
   ]
  },
  {
   "cell_type": "code",
   "execution_count": 2,
   "metadata": {},
   "outputs": [
    {
     "data": {
      "text/plain": [
       "0.15692196182652815"
      ]
     },
     "execution_count": 2,
     "metadata": {},
     "output_type": "execute_result"
    }
   ],
   "source": [
    "(0.3*86.6) / (0.3*86.6 + 99.7*1.4)"
   ]
  },
  {
   "cell_type": "markdown",
   "metadata": {},
   "source": [
    "<div class=\"answer\">\n",
    "\n",
    "<br>\n",
    "$$\n",
    "TPR = \\frac{TP}{TP + FN} = \\frac{p(T^+, D^+)}{p(D^+)} = p(T^+ | D^+) = 86.6\\%\n",
    "$$\n",
    "<br>\n",
    "\n",
    "$$\n",
    "TNR = \\frac{TN}{TN + FP} = \\frac{p(T^-, D^-)}{p(D^-)} = p(T^- | D^-) = 98.6\\%\n",
    "$$\n",
    "<br>\n",
    "\n",
    "Given tests being positive, the probability of having HIV is:\n",
    "<br>\n",
    "\n",
    "$$\n",
    "p(D^+ | T^+) = \\frac{p(D^+, T^+)}{p(T^+)} = \\frac{p(D^+) p(T^+ | D^+)}{p(D^+) p(T^+ | D^+) +  p(D^-) p(T^+ | D^-)}\n",
    "= \\frac{(0.3\\%)(86.6\\%)}{(0.3\\%)(86.6\\%) + (99.7\\%)(1.4\\%)} = 15.7\\%\n",
    "$$\n",
    "<br>\n",
    "\n",
    "</div>"
   ]
  },
  {
   "cell_type": "markdown",
   "metadata": {},
   "source": [
    "##### <div class=\"answer-separator\">\n",
    "------------------------\n",
    "</div>"
   ]
  },
  {
   "cell_type": "markdown",
   "metadata": {},
   "source": [
    "<h4>1.2. Should you be concerned enough to ask for further testing or treatment for your partner?  Justify your answer quantitatively.</h4>"
   ]
  },
  {
   "cell_type": "code",
   "execution_count": 3,
   "metadata": {},
   "outputs": [
    {
     "data": {
      "text/plain": [
       "0.9200860433161029"
      ]
     },
     "execution_count": 3,
     "metadata": {},
     "output_type": "execute_result"
    }
   ],
   "source": [
    "(0.3*86.6*86.6) / (0.3*86.6*86.6 + 99.7*1.4*1.4) # p(D+ | T+, T+)"
   ]
  },
  {
   "cell_type": "code",
   "execution_count": 4,
   "metadata": {},
   "outputs": [
    {
     "data": {
      "text/plain": [
       "0.024671455460812772"
      ]
     },
     "execution_count": 4,
     "metadata": {},
     "output_type": "execute_result"
    }
   ],
   "source": [
    "(0.3*13.4*86.6) / (0.3*13.4*86.6 + 99.7*1.4*98.6) # p(D+ | T+, T-)"
   ]
  },
  {
   "cell_type": "markdown",
   "metadata": {},
   "source": [
    "<div class=\"answer\">\n",
    "\n",
    "<br>\n",
    "Based on 1.1, the probability of having HIV given test positive is around 16%. This is much lower than guessing randomly (50%), so we would not be too concerned. However, given the computations below, if we ask for further testing, we would be much more certain whether the partner has HIV or not basing our inference on 2 consecutive tests. Therefore, it would be wise to ask for further testing.\n",
    "\n",
    "<br>\n",
    "(1) If the second test is still positive: the probability of having HIV would be very high:\n",
    "<br>\n",
    "$$\n",
    "p(T^+, T^+ | D^+) = p(T^+|D^+) p(T^+|D^+) = (86.6\\%)^2\n",
    "$$\n",
    "\n",
    "<br>\n",
    "$$\n",
    "p(T^+, T^+ | D^-) = p(T^+|D^-) p(T^+|D^-) = (1.4\\%)^2\n",
    "$$\n",
    "\n",
    "<br>\n",
    "$$\n",
    "p(D^+ | T^+, T^+) = \\frac{p(D^+)p(T^+, T^+ | D^+)}{p(D^+)p(T^+, T^+ | D^+) + p(D^-)p(T^+, T^+ | D^-)}\n",
    "$$\n",
    "\n",
    "<br>\n",
    "$$\n",
    "= \\frac{(0.3\\%)(86.6\\%)^2}{(0.3\\%)(86.6\\%)^2 + (99.7\\%)(1.4\\%)^2} = 92\\%\n",
    "$$\n",
    "\n",
    "<br>\n",
    "(2) If the second test is negative: the probability of having HIV would be very low:\n",
    "<br>\n",
    "$$\n",
    "p(T^+, T^- | D^+) = p(T^+|D^+) p(T^-|D^+) = (86.6\\%)(13.4\\%)\n",
    "$$\n",
    "\n",
    "<br>\n",
    "$$\n",
    "p(T^+, T^- | D^-) = p(T^+|D^-) p(T^-|D^-) = (1.4\\%)(98.6\\%)\n",
    "$$\n",
    "\n",
    "<br>\n",
    "$$\n",
    "p(D^+ | T^+, T^-) = \\frac{p(D^+)p(T^+, T^- | D^+)}{p(D^+)p(T^+, T^- | D^+) + p(D^-)p(T^+, T^- | D^-)}\n",
    "$$\n",
    "\n",
    "<br>\n",
    "$$\n",
    "= \\frac{(0.3\\%)(86.6\\%)(13.4\\%)}{(0.3\\%)(86.6\\%)(13.4\\%) + (99.7\\%)(1.4\\%)(98.6\\%)} = 2.5\\%\n",
    "$$\n",
    "\n",
    "<br>\n",
    "\n",
    "</div>"
   ]
  },
  {
   "cell_type": "markdown",
   "metadata": {},
   "source": [
    "<div class=\"answer-separator\">\n",
    "------------------------\n",
    "</div>"
   ]
  },
  {
   "cell_type": "markdown",
   "metadata": {},
   "source": [
    "<h4>1.3. The medical staff at the screening clinic decides to independently administer the BRT as it is the only other test they can administer on site.  Based on the UCSF study above, you're aware that this test has a sensitivity (true positive rate) of 91.9% and a specificity of 99.6%.  What is the probability that your partner has the HIV if both tests come up positive (Make the assumption that the independent administration means that the tests are independent of each other)?</h4>"
   ]
  },
  {
   "cell_type": "code",
   "execution_count": 5,
   "metadata": {},
   "outputs": [
    {
     "data": {
      "text/plain": [
       "0.9771498170168217"
      ]
     },
     "execution_count": 5,
     "metadata": {},
     "output_type": "execute_result"
    }
   ],
   "source": [
    "(0.3*86.6*91.9) / (0.3*86.6*91.9 + 99.7*1.4*0.4)"
   ]
  },
  {
   "cell_type": "markdown",
   "metadata": {},
   "source": [
    "<div class=\"answer\">\n",
    "\n",
    "<br>\n",
    "For SRT:\n",
    "<br>\n",
    "$$\n",
    "TPR = p(T_s^+ | D^+) = 86.6\\%\n",
    "$$\n",
    "<br>\n",
    "$$\n",
    "TNR = p(T_s^- | D^-) = 98.6\\%\n",
    "$$\n",
    "<br>\n",
    "\n",
    "For BRT: \n",
    "<br>\n",
    "$$\n",
    "TPR = p(T_b^+ | D^+) = 91.9\\%\n",
    "$$\n",
    "<br>\n",
    "$$\n",
    "TNR = p(T_b^- | D^-) = 99.6\\%\n",
    "$$\n",
    "<br>\n",
    "\n",
    "$$\n",
    "p(D^+ | T_s^+, T_b^+) = \\frac{p(D^+) p(D^+ | T_s^+, T_b^+)}{p(D^+) p(D^+ | T_s^+, T_b^+) + p(D^-) p(D^- | T_s^+, T_b^+)}\n",
    "$$\n",
    "\n",
    "<br>\n",
    "$$\n",
    "= \\frac{p(D^+) p(T_s^+ | D^+) p(T_b^+ | D^+)}{p(D^+) p(T_s^+ | D^+) p(T_b^+ | D^+) + p(D^-) p(T_s^+ | D^-) p(T_b^+ | D^-)}\n",
    "$$\n",
    "\n",
    "<br>\n",
    "$$ = \\frac{(0.3\\%)(86.6\\%)(91.9\\%)}{(0.3\\%)(86.6\\%)(91.9\\%) + (99.7\\%)(1.4\\%)(0.4\\%)} = 97.7\\%\n",
    "$$\n",
    "</div>"
   ]
  },
  {
   "cell_type": "markdown",
   "metadata": {},
   "source": [
    "<div class=\"answer-separator\">\n",
    "------------------------\n",
    "</div>"
   ]
  },
  {
   "cell_type": "markdown",
   "metadata": {},
   "source": [
    "<h4>1.4. What is the probability that your Bahamian partner has HIV given that he/she received a positive test result on the SRT?</h4>"
   ]
  },
  {
   "cell_type": "code",
   "execution_count": 6,
   "metadata": {},
   "outputs": [
    {
     "data": {
      "text/plain": [
       "0.6785544686105043"
      ]
     },
     "execution_count": 6,
     "metadata": {},
     "output_type": "execute_result"
    }
   ],
   "source": [
    "(3.3*86.6) / (3.3*86.6 + 96.7*1.4)"
   ]
  },
  {
   "cell_type": "markdown",
   "metadata": {},
   "source": [
    "<div class=\"answer\">\n",
    "\n",
    "In Bahamas:\n",
    "<br>\n",
    "$$\n",
    "p(D^+) = 3.3\\%\n",
    "$$\n",
    "$$\n",
    "p(D^-) = 96.7\\%\n",
    "$$\n",
    "\n",
    "For SRT:\n",
    "<br>\n",
    "$$\n",
    "TPR = p(T_s^+ | D^+) = 86.6\\%\n",
    "$$\n",
    "<br>\n",
    "$$\n",
    "TNR = p(T_s^- | D^-) = 98.6\\%\n",
    "$$\n",
    "<br>\n",
    "\n",
    "Given a positive SRT result, the probability of having HIV is:\n",
    "<br>\n",
    "\n",
    "$$\n",
    "p(D^+ | T^+) = \\frac{p(D^+, T^+)}{p(T^+)} = \\frac{p(D^+) p(T^+ | D^+)}{p(D^+) p(T^+ | D^+) +  p(D^-) p(T^+ | D^-)}\n",
    "= \\frac{(3.3\\%)(86.6\\%)}{(3.3\\%)(86.6\\%) + (96.7\\%)(1.4\\%)} = 67.9\\%\n",
    "$$\n",
    "<br>\n",
    "\n",
    "</div>"
   ]
  },
  {
   "cell_type": "markdown",
   "metadata": {},
   "source": [
    "<div class=\"answer-separator\">\n",
    "------------------------\n",
    "</div>"
   ]
  },
  {
   "cell_type": "markdown",
   "metadata": {},
   "source": [
    "<h4>1.5. How does the new information quantifiably affect your decision of whether you should  be concerned enough to ask for treatment or testing for your partner?</h4>"
   ]
  },
  {
   "cell_type": "markdown",
   "metadata": {},
   "source": [
    "<div class=\"answer\">\n",
    "\n",
    "<br>\n",
    "The new information that in the Bahamas HIV has prevalence of 3.3% largely increased $p(D^+ | T_s^+)$ (from 16% to 68%). The risk is much higher, so we should definitely be concerned enough to ask for treatment or testing.\n",
    "<br>\n",
    "<br>\n",
    "\n",
    "</div>"
   ]
  },
  {
   "cell_type": "markdown",
   "metadata": {},
   "source": [
    "<div class=\"answer-separator\">\n",
    "------------------------\n",
    "</div>"
   ]
  },
  {
   "cell_type": "markdown",
   "metadata": {},
   "source": [
    "## Question 2: Visualize Yourself Missing Your Data\n",
    "\n",
    "**Some Coding required**\n",
    "\n",
    "Missing data is a very important topic in statistics and machine learning and we may touch upon it a few times throughout the course. Let us begin to explore how to handle missing data in our analysis.  We'll be working with a dataset from the UCI Machine Learning Repository that uses a variety of wine chemical predictors to classify wines grown in the same region in Italy.  Each line represents 13 (mostly chemical) predictors of the response variable wine class, including things like alcohol content, hue, and phenols.  Unfortunately some of the predictor values were lost in measurement.  You'll find the dataset in a file called `wine_quality_missing.csv`.\n",
    "\n",
    "2.1. Read the data in the `wine_quality_missing.csv` into a pandas dataframe and store the dataframe in the variable `wine_df`.  How many observations are in the dataset?  "
   ]
  },
  {
   "cell_type": "code",
   "execution_count": 7,
   "metadata": {},
   "outputs": [
    {
     "data": {
      "text/html": [
       "<div>\n",
       "<style scoped>\n",
       "    .dataframe tbody tr th:only-of-type {\n",
       "        vertical-align: middle;\n",
       "    }\n",
       "\n",
       "    .dataframe tbody tr th {\n",
       "        vertical-align: top;\n",
       "    }\n",
       "\n",
       "    .dataframe thead th {\n",
       "        text-align: right;\n",
       "    }\n",
       "</style>\n",
       "<table border=\"1\" class=\"dataframe\">\n",
       "  <thead>\n",
       "    <tr style=\"text-align: right;\">\n",
       "      <th></th>\n",
       "      <th>Alcohol</th>\n",
       "      <th>Malic acid</th>\n",
       "      <th>Ash</th>\n",
       "      <th>Alcalinity of ash</th>\n",
       "      <th>Magnesium</th>\n",
       "      <th>Total phenols</th>\n",
       "      <th>Flavanoids</th>\n",
       "      <th>Nonflavanoid phenols</th>\n",
       "      <th>Proanthocyanins</th>\n",
       "      <th>Color intensity</th>\n",
       "      <th>Hue</th>\n",
       "      <th>OD280/OD315 of diluted wines</th>\n",
       "      <th>Proline</th>\n",
       "      <th>Class</th>\n",
       "    </tr>\n",
       "  </thead>\n",
       "  <tbody>\n",
       "    <tr>\n",
       "      <th>0</th>\n",
       "      <td>14.23</td>\n",
       "      <td>1.71</td>\n",
       "      <td>2.43</td>\n",
       "      <td>15.6</td>\n",
       "      <td>127.0</td>\n",
       "      <td>2.80</td>\n",
       "      <td>3.06</td>\n",
       "      <td>0.28</td>\n",
       "      <td>2.29</td>\n",
       "      <td>5.64</td>\n",
       "      <td>1.04</td>\n",
       "      <td>3.92</td>\n",
       "      <td>1065.0</td>\n",
       "      <td>1</td>\n",
       "    </tr>\n",
       "    <tr>\n",
       "      <th>1</th>\n",
       "      <td>13.20</td>\n",
       "      <td>1.78</td>\n",
       "      <td>2.14</td>\n",
       "      <td>NaN</td>\n",
       "      <td>100.0</td>\n",
       "      <td>2.65</td>\n",
       "      <td>2.76</td>\n",
       "      <td>0.26</td>\n",
       "      <td>1.28</td>\n",
       "      <td>4.38</td>\n",
       "      <td>1.05</td>\n",
       "      <td>3.40</td>\n",
       "      <td>1050.0</td>\n",
       "      <td>1</td>\n",
       "    </tr>\n",
       "    <tr>\n",
       "      <th>2</th>\n",
       "      <td>13.16</td>\n",
       "      <td>2.36</td>\n",
       "      <td>2.67</td>\n",
       "      <td>18.6</td>\n",
       "      <td>101.0</td>\n",
       "      <td>2.80</td>\n",
       "      <td>3.24</td>\n",
       "      <td>0.30</td>\n",
       "      <td>2.81</td>\n",
       "      <td>5.68</td>\n",
       "      <td>1.03</td>\n",
       "      <td>3.17</td>\n",
       "      <td>1185.0</td>\n",
       "      <td>1</td>\n",
       "    </tr>\n",
       "    <tr>\n",
       "      <th>3</th>\n",
       "      <td>14.37</td>\n",
       "      <td>1.95</td>\n",
       "      <td>2.50</td>\n",
       "      <td>NaN</td>\n",
       "      <td>113.0</td>\n",
       "      <td>3.85</td>\n",
       "      <td>3.49</td>\n",
       "      <td>0.24</td>\n",
       "      <td>2.18</td>\n",
       "      <td>7.80</td>\n",
       "      <td>0.86</td>\n",
       "      <td>3.45</td>\n",
       "      <td>1480.0</td>\n",
       "      <td>1</td>\n",
       "    </tr>\n",
       "    <tr>\n",
       "      <th>4</th>\n",
       "      <td>13.24</td>\n",
       "      <td>2.59</td>\n",
       "      <td>2.87</td>\n",
       "      <td>21.0</td>\n",
       "      <td>118.0</td>\n",
       "      <td>2.80</td>\n",
       "      <td>2.69</td>\n",
       "      <td>0.39</td>\n",
       "      <td>NaN</td>\n",
       "      <td>4.32</td>\n",
       "      <td>1.04</td>\n",
       "      <td>2.93</td>\n",
       "      <td>735.0</td>\n",
       "      <td>1</td>\n",
       "    </tr>\n",
       "  </tbody>\n",
       "</table>\n",
       "</div>"
      ],
      "text/plain": [
       "   Alcohol  Malic acid   Ash  Alcalinity of ash  Magnesium  Total phenols  \\\n",
       "0    14.23        1.71  2.43               15.6      127.0           2.80   \n",
       "1    13.20        1.78  2.14                NaN      100.0           2.65   \n",
       "2    13.16        2.36  2.67               18.6      101.0           2.80   \n",
       "3    14.37        1.95  2.50                NaN      113.0           3.85   \n",
       "4    13.24        2.59  2.87               21.0      118.0           2.80   \n",
       "\n",
       "   Flavanoids  Nonflavanoid phenols  Proanthocyanins  Color intensity   Hue  \\\n",
       "0        3.06                  0.28             2.29             5.64  1.04   \n",
       "1        2.76                  0.26             1.28             4.38  1.05   \n",
       "2        3.24                  0.30             2.81             5.68  1.03   \n",
       "3        3.49                  0.24             2.18             7.80  0.86   \n",
       "4        2.69                  0.39              NaN             4.32  1.04   \n",
       "\n",
       "   OD280/OD315 of diluted wines  Proline  Class  \n",
       "0                          3.92   1065.0      1  \n",
       "1                          3.40   1050.0      1  \n",
       "2                          3.17   1185.0      1  \n",
       "3                          3.45   1480.0      1  \n",
       "4                          2.93    735.0      1  "
      ]
     },
     "metadata": {},
     "output_type": "display_data"
    },
    {
     "name": "stdout",
     "output_type": "stream",
     "text": [
      "(178, 14)\n"
     ]
    }
   ],
   "source": [
    "wine_df = pd.read_csv('wine_quality_missing.csv')\n",
    "display(wine_df.head())\n",
    "\n",
    "print(wine_df.shape)"
   ]
  },
  {
   "cell_type": "markdown",
   "metadata": {},
   "source": [
    "**ANSWER** \n",
    "\n",
    "There are 178 observations in the dataset.\n",
    "\n",
    "---"
   ]
  },
  {
   "cell_type": "markdown",
   "metadata": {},
   "source": [
    "2.2. One way to handle missing data is to just totally ignore it by removing any rows that have any missing values.  This is called *drop imputation*.  Use drop imputation on our wine quality dataframe and store the resulting dataframe in the variable `wine_drop`.  How many observations does the drop imputed dataset have?"
   ]
  },
  {
   "cell_type": "code",
   "execution_count": 8,
   "metadata": {},
   "outputs": [
    {
     "name": "stdout",
     "output_type": "stream",
     "text": [
      "(43, 14)\n"
     ]
    }
   ],
   "source": [
    "wine_drop = wine_df.dropna()\n",
    "print(wine_drop.shape) "
   ]
  },
  {
   "cell_type": "markdown",
   "metadata": {},
   "source": [
    "**ANSWER**\n",
    "\n",
    "There are 43 observations in the drop imputed dataset.\n",
    "\n",
    "---"
   ]
  },
  {
   "cell_type": "markdown",
   "metadata": {},
   "source": [
    "2.3. Visualize using a normed histogram the values of Ash predictor in the drop imputed dataframe.  Overlay a fitted normal distribution on your plot.  Make sure to title the plot, include a legend and label axes."
   ]
  },
  {
   "cell_type": "code",
   "execution_count": 9,
   "metadata": {},
   "outputs": [
    {
     "data": {
      "image/png": "[encoded data removed]",
      "text/plain": [
       "<matplotlib.figure.Figure at 0x117e15940>"
      ]
     },
     "metadata": {},
     "output_type": "display_data"
    }
   ],
   "source": [
    "fig, ax = plt.subplots(1, 1, figsize=(8, 6))\n",
    "\n",
    "# fit a normal distribution to 'Ash'\n",
    "mu, std = norm.fit(wine_drop['Ash'])\n",
    "\n",
    "# histogram of 'Ash'\n",
    "ax.hist(wine_drop['Ash'], bins=20, normed=True, alpha=0.5, label='Ash')\n",
    "\n",
    "# plot the fitted normal distribution\n",
    "xmin, xmax = plt.xlim()\n",
    "x = np.linspace(xmin, xmax, 100)\n",
    "p_drop = norm.pdf(x, mu, std)\n",
    "ax.plot(x, p_drop, '-', label='fitted normal distribution')\n",
    "\n",
    "# include legend and labels\n",
    "ax.set_title('Normalized Histogram of NA dropped Ash with a Fitted Normal Distribution')\n",
    "ax.set_xlabel('Ash - NA dropped')\n",
    "ax.set_ylabel('Density')\n",
    "plt.legend()\n",
    "plt.tight_layout()"
   ]
  },
  {
   "cell_type": "markdown",
   "metadata": {},
   "source": [
    "2.4. What are the mean and standard deviation of the values of the Ash feature in your drop imputed dataset?"
   ]
  },
  {
   "cell_type": "code",
   "execution_count": 10,
   "metadata": {},
   "outputs": [
    {
     "name": "stdout",
     "output_type": "stream",
     "text": [
      "mean = 2.369767441860465\n",
      "std = 0.2996857918281887\n"
     ]
    }
   ],
   "source": [
    "print('mean = {}'.format(np.mean(wine_drop['Ash'])))\n",
    "print('std = {}'.format(np.std(wine_drop['Ash'])))"
   ]
  },
  {
   "cell_type": "markdown",
   "metadata": {},
   "source": [
    "2.5. Another way to handle missing data is to replace any missing value with the mean of the non-missing values in that *column*.  This is called *mean imputation*.  How many rows does our mean imputed dataset have?"
   ]
  },
  {
   "cell_type": "code",
   "execution_count": 11,
   "metadata": {},
   "outputs": [
    {
     "data": {
      "text/plain": [
       "Alcohol                          13.015031\n",
       "Malic acid                        2.365963\n",
       "Ash                               2.366218\n",
       "Alcalinity of ash                19.508861\n",
       "Magnesium                        99.870370\n",
       "Total phenols                     2.332722\n",
       "Flavanoids                        2.042278\n",
       "Nonflavanoid phenols              0.362704\n",
       "Proanthocyanins                   1.596211\n",
       "Color intensity                   5.140123\n",
       "Hue                               0.953434\n",
       "OD280/OD315 of diluted wines      2.621707\n",
       "Proline                         748.644578\n",
       "Class                             1.938202\n",
       "dtype: float64"
      ]
     },
     "execution_count": 11,
     "metadata": {},
     "output_type": "execute_result"
    }
   ],
   "source": [
    "np.mean(wine_df)"
   ]
  },
  {
   "cell_type": "code",
   "execution_count": 12,
   "metadata": {},
   "outputs": [
    {
     "name": "stdout",
     "output_type": "stream",
     "text": [
      "(178, 14)\n"
     ]
    }
   ],
   "source": [
    "wine_mean_imputed = wine_df.fillna(np.mean(wine_df))\n",
    "print(wine_mean_imputed.shape)"
   ]
  },
  {
   "cell_type": "markdown",
   "metadata": {},
   "source": [
    "**ANSWER**\n",
    "\n",
    "There are 178 rows in the mean imputed dataset.\n",
    "\n",
    "---"
   ]
  },
  {
   "cell_type": "markdown",
   "metadata": {},
   "source": [
    "2.6. Visualize using a normed histogram the values of Ash predictor in the mean imputed dataframe.  Overlay a fitted normal distribution on your plot.  Make sure to title the plot, include a legend and label axes."
   ]
  },
  {
   "cell_type": "code",
   "execution_count": 13,
   "metadata": {},
   "outputs": [
    {
     "data": {
      "image/png": "[encoded data removed]",
      "text/plain": [
       "<matplotlib.figure.Figure at 0x119eb1908>"
      ]
     },
     "metadata": {},
     "output_type": "display_data"
    }
   ],
   "source": [
    "fig, ax = plt.subplots(1, 1, figsize=(8, 6))\n",
    "\n",
    "# fit a normal distribution to 'Ash'\n",
    "mu, std = norm.fit(wine_mean_imputed['Ash'])\n",
    "\n",
    "# histogram of 'Ash'\n",
    "ax.hist(wine_mean_imputed['Ash'], bins=20, density=True, alpha=0.5, label='Ash')\n",
    "\n",
    "# plot the fitted normal distribution\n",
    "xmin, xmax = plt.xlim()\n",
    "x = np.linspace(xmin, xmax, 100)\n",
    "p_mean_imputed = norm.pdf(x, mu, std)\n",
    "ax.plot(x, p_mean_imputed, '-', label='fitted normal distribution')\n",
    "\n",
    "# include legend and labels\n",
    "ax.set_title('Normalized Histogram of Mean Imputed Ash with a Fitted Normal Distribution')\n",
    "ax.set_xlabel('Ash - mean imputed')\n",
    "ax.set_ylabel('Density')\n",
    "plt.legend()\n",
    "plt.tight_layout()"
   ]
  },
  {
   "cell_type": "markdown",
   "metadata": {},
   "source": [
    "2.7. What are the mean and standard deviation of the Ash predictor values in your mean imputed dataset?  How do they compare to the mean and standard deviation of the drop imputed dataset?"
   ]
  },
  {
   "cell_type": "code",
   "execution_count": 14,
   "metadata": {},
   "outputs": [
    {
     "name": "stdout",
     "output_type": "stream",
     "text": [
      "mean = 2.36621794871795\n",
      "std = 0.26427629172770295\n"
     ]
    }
   ],
   "source": [
    "print('mean = {}'.format(np.mean(wine_mean_imputed['Ash'])))\n",
    "print('std = {}'.format(np.std(wine_mean_imputed['Ash'])))"
   ]
  },
  {
   "cell_type": "markdown",
   "metadata": {},
   "source": [
    "**ANSWER**\n",
    "\n",
    "- mean = 2.36621794871795\n",
    "\n",
    "- std = 0.2650217834532965\n",
    "\n",
    "The mean imputed dataset has a slightly smaller mean and a smaller standard deviation for the Ash predictor values than the NA dropped dataset.\n",
    "\n",
    "---"
   ]
  },
  {
   "cell_type": "markdown",
   "metadata": {},
   "source": [
    "## Part 3: Walk Softly and Carry a Broken Stick  \n",
    "\n",
    "**Some Coding required**\n",
    "\n",
    "3.1  A well-known probability problem, the **Broken Stick Problem** can be formulated as follows. *A stick is broken up at two points, chosen at random along its\n",
    "length. Show that the probability that the pieces obtained form a triangle is 1/4.*  Write a function `simulate_broken_stick` that runs takes an integer parameter `n_sims`, runs that many simulations of the broken stick problem and returns a floating point number representing an estimate of the probability that the pieces of a stick randomly broken in two places form a triangle.  \n",
    "\n",
    "**Hints**:\n",
    "\n",
    "1. Use either np.random.rand or scipy.stats.uniform.rvs to simulate stick-breaking\n",
    "2. Think about the triangle inequality\n",
    "\n",
    "3.2 Run your function `simulate_broken_stick` with `n_sims` set to be equal to 50 and 1000.  What are your two estimates of the solution to the broken stick problem?\n",
    "\n",
    "3.3 (Optional) Provide an analytic proof of the **Broken Stick Problem**.\n",
    "\n",
    "**Hints**:\n",
    "\n",
    "1. There's a very nice geometric proof taking advantage of [Viviani's Theorem][1].  Argue that every point in the equilateral triangle with height equal to the length of the stick maps to a particular breaking of the stick.  Divide the equilateral triangle into subtriangles by joining the midpoints.  What does it mean for a point to be outside the central equilateral subtriangle?\n",
    "2. There's a more straightforward proof treating the breaking of the stick as joint uniform random variables.  What conditions does the triangle inequality impose on the joint random variable? How do you calculate the probability that the joint uniform meets those conditions? \n",
    "\n",
    "[1]: https://en.wikipedia.org/wiki/Viviani%27s_theorem"
   ]
  },
  {
   "cell_type": "markdown",
   "metadata": {},
   "source": [
    "**Solution**:"
   ]
  },
  {
   "cell_type": "markdown",
   "metadata": {},
   "source": [
    "<h4> 3.1  A well-known probability problem, the **Broken Stick Problem** can be formulated as follows. *A stick is broken up at two points, chosen at random along its\n",
    "length. Show that the probability that the pieces obtained form a triangle is 1/4.*  Write a function `simulate_broken_stick` that runs takes an integer parameter `n_sims`, runs that many simulations of the broken stick problem and returns a floating point number representing an estimate of the probability that the pieces of a stick randomly broken in two places form a triangle.</h4>"
   ]
  },
  {
   "cell_type": "code",
   "execution_count": 15,
   "metadata": {},
   "outputs": [],
   "source": [
    "def simulate_broken_stick(n_sims=500):\n",
    "    \n",
    "    # define your probability estimate and initialize it to 0\n",
    "    probability_estimate = 0\n",
    "    \n",
    "    # run your simulation and calculate probability_estimate\n",
    "    count = 0\n",
    "    for i in range(n_sims):\n",
    "        \n",
    "        # generate 2 break points and compute length\n",
    "        values = np.random.rand(2)\n",
    "        values.sort()\n",
    "        sides = [values[0], values[1]-values[0], 1-values[1]]\n",
    "\n",
    "        # sort lengths\n",
    "        sides.sort()\n",
    "        count += (sides[0]+sides[1]) > sides[2]\n",
    "    \n",
    "    probability_estimate = count/n_sims\n",
    "    \n",
    "    return probability_estimate"
   ]
  },
  {
   "cell_type": "markdown",
   "metadata": {},
   "source": [
    "<h4>3.2 Run your function `simulate_broken_stick` with `n_sims` set to be equal to 50 and 1000.  What are your two estimates of the solution to the broken stick problem?</h4>"
   ]
  },
  {
   "cell_type": "code",
   "execution_count": 16,
   "metadata": {},
   "outputs": [],
   "source": [
    "estimate_50 = simulate_broken_stick(n_sims=50)  # calculate estimate for 50 simulations\n",
    "estimate_1000 = simulate_broken_stick(n_sims=1000)  # calculate estimate for 1000 simulations"
   ]
  },
  {
   "cell_type": "code",
   "execution_count": 17,
   "metadata": {},
   "outputs": [
    {
     "name": "stdout",
     "output_type": "stream",
     "text": [
      "estimate_50 = 0.3\n",
      "estimate_1000 = 0.254\n"
     ]
    }
   ],
   "source": [
    "## Make sure you present your answers somewhere here\n",
    "print('estimate_50 = {}'.format(estimate_50))\n",
    "print('estimate_1000 = {}'.format(estimate_1000))"
   ]
  },
  {
   "cell_type": "markdown",
   "metadata": {},
   "source": [
    "<h4>3.3 (Optional) Provide an analytic proof of the **Broken Stick Problem**.</h4>"
   ]
  },
  {
   "cell_type": "markdown",
   "metadata": {},
   "source": [
    "<div class=\"answer\">\n",
    "\n",
    "<br>\n",
    "Assume the length of stick is 1. The two cuts are x and y.\n",
    "<br>\n",
    "<br>\n",
    "**(1) 0 < x < y < 1**:\n",
    "<br>\n",
    "The lengths of the 3 sides are: x, y-x, and 1-y\n",
    "<br>\n",
    "Froming a triangle, the sum of any 2 sides' lengths should be greater than the length of the 3rd side:\n",
    "<br>\n",
    "  `x + (y-x) > 1-y` and\n",
    "`x + (1-y) > y-x` and \n",
    "`(y-x) + (1-y) > x`,\n",
    "\n",
    "<br>\n",
    "<br>\n",
    "which can be simplified to:\n",
    "<br>\n",
    "`y > 1/2` and `0 < x < y < x+1/2` and `x < 1/2`\n",
    "<br>\n",
    "\n",
    "<br>\n",
    "Under these conditions, the probability of forming a triangle is the ratio of the area enclosed by these boundaries to the area of the unit square. Therefore p = 1/8, see illustration below."
   ]
  },
  {
   "cell_type": "code",
   "execution_count": 18,
   "metadata": {},
   "outputs": [
    {
     "data": {
      "image/png": "[encoded data removed]",
      "text/plain": [
       "<matplotlib.figure.Figure at 0x11a0af710>"
      ]
     },
     "metadata": {},
     "output_type": "display_data"
    }
   ],
   "source": [
    "fig, ax = plt.subplots(1, 1, figsize=(5, 5))\n",
    "\n",
    "x = np.arange(0, 1/2, 0.01)\n",
    "y1 = 1/2\n",
    "y2 = 1/2 + x\n",
    "\n",
    "ax.fill_between(x, y1, y2, alpha=0.5)\n",
    "plt.axis('equal')\n",
    "plt.gca().set_xlim(0, 1)\n",
    "plt.gca().set_ylim(0, 1)\n",
    "plt.title('0 < x < y < 1')\n",
    "plt.show()"
   ]
  },
  {
   "cell_type": "markdown",
   "metadata": {},
   "source": [
    "<br>\n",
    "**(2) 0 < y < x < 1**:\n",
    "<br>\n",
    "By symmetry, the probability of forming a triangle is p = 1/8 too. \n",
    "<br>\n",
    "<br>\n",
    "**By (1) and (2), the total probability of forming a triangle is 1/8 * 2 = 1/4**\n",
    "\n",
    "</div>"
   ]
  },
  {
   "cell_type": "code",
   "execution_count": null,
   "metadata": {},
   "outputs": [],
   "source": []
  }
 ],
 "metadata": {
  "anaconda-cloud": {},
  "kernel_info": {
   "name": "python3"
  },
  "kernelspec": {
   "display_name": "Python 3",
   "language": "python",
   "name": "python3"
  },
  "language_info": {
   "codemirror_mode": {
    "name": "ipython",
    "version": 3
   },
   "file_extension": ".py",
   "mimetype": "text/x-python",
   "name": "python",
   "nbconvert_exporter": "python",
   "pygments_lexer": "ipython3",
   "version": "3.6.6"
  },
  "nteract": {
   "version": "0.10.0"
  }
 },
 "nbformat": 4,
 "nbformat_minor": 2
}
