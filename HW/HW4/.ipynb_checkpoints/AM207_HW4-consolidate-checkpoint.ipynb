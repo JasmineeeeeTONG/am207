{
 "cells": [
  {
   "cell_type": "markdown",
   "metadata": {},
   "source": [
    "# Homework 4\n",
    "\n",
    "**Harvard University**<br>\n",
    "**Fall 2018**<br>\n",
    "**Instructors: Rahul Dave**<br>\n",
    "**Due Date: ** Saturday, October 6th, 2018 at 11:59pm\n",
    "\n",
    "**Instructions:**\n",
    "\n",
    "- Upload your final answers in the form of a Jupyter notebook containing all work to Canvas.\n",
    "\n",
    "- Structure your notebook and your work to maximize readability."
   ]
  },
  {
   "cell_type": "markdown",
   "metadata": {},
   "source": [
    "### Collaborators\n",
    "\n",
    "**Michelle (Chia Chi) Ho, Jiejun Lu, Jiawen Tong**"
   ]
  },
  {
   "cell_type": "markdown",
   "metadata": {},
   "source": [
    "<div class=\"answer-separator\">\n",
    "------------------------\n",
    "</div>"
   ]
  },
  {
   "cell_type": "code",
   "execution_count": 1,
   "metadata": {
    "collapsed": true
   },
   "outputs": [],
   "source": [
    "import numpy as np\n",
    "import scipy.stats\n",
    "import scipy.special\n",
    "\n",
    "import matplotlib\n",
    "import matplotlib.pyplot as plt\n",
    "import matplotlib.mlab as mlab\n",
    "from matplotlib import cm\n",
    "import pandas as pd\n",
    "%matplotlib inline\n",
    "\n",
    "from scipy.stats import norm"
   ]
  },
  {
   "cell_type": "markdown",
   "metadata": {},
   "source": [
    "## Question 1: Rubber Chickens Bawk Bawk!\n",
    "\n",
    "In the competitive rubber chicken retail market, the success of a company is built on satisfying the exacting standards of a consumer base with refined and discriminating taste. In particular, customer product reviews are all important. But how should we judge the quality of a product based on customer reviews?\n",
    "\n",
    "On Amazon, the first customer review statistic displayed for a product is the ***average rating***. The following are the main product pages for two competing rubber chicken products, manufactured by Lotus World and Toysmith respectively:\n",
    "\n",
    "\n",
    "Lotus World |  Toysmith\n",
    "- |  - \n",
    "![alt](https://am207.github.io/2018fall/homeworks/lotus1.png) |  ![alt](https://am207.github.io/2018fall/homeworks/toysmith1.png)\n",
    "\n",
    "Clicking on the 'customer review' link on the product pages takes us to a detailed break-down of the reviews. In particular, we can now see the number of times a product is rated a given rating (between 1 and 5 stars).\n",
    "\n",
    "Lotus World |  Toysmith\n",
    "- |  - \n",
    "![alt](https://am207.github.io/2018fall/homeworks/lotus2.png) |  ![alt](https://am207.github.io/2018fall/homeworks/toysmith2.png)\n",
    "\n",
    "(The images above are also included on canvas in case you are offline, see below)\n",
    "\n",
    "In the following, we will ask you to compare these two products using the various rating statistics. **Larger versions of the images are available in the data set accompanying this notebook**.\n",
    "\n",
    "Suppose that for each product, we can model the probability of the value each new rating as the following vector:\n",
    "$$\n",
    "\\theta = [\\theta_1, \\theta_2, \\theta_3, \\theta_4, \\theta_5]\n",
    "$$\n",
    "where $\\theta_i$ is the probability that a given customer will give the product $i$ number of stars.\n",
    "\n",
    "\n",
    "1.1. Suppose you are told that customer opinions are very polarized in the retail world of rubber chickens, that is, most reviews will be 5 stars or 1 stars (with little middle ground). Choose an appropriate Dirichlet prior for $\\theta$. Recall that the Dirichlet pdf is given by:\n",
    "$$\n",
    "f_{\\Theta}(\\theta) = \\frac{1}{B(\\alpha)} \\prod_{i=1}^k \\theta_i^{\\alpha_i - 1}, \\quad B(\\alpha) = \\frac{\\prod_{i=1}^k\\Gamma(\\alpha_i)}{\\Gamma\\left(\\sum_{i=1}^k\\alpha_i\\right)},\n",
    "$$\n",
    "where $\\theta_i \\in (0, 1)$ and $\\sum_{i=1}^k \\theta_i = 1$, $\\alpha_i > 0 $ for $i = 1, \\ldots, k$.\n",
    "\n",
    "1.2. Write an expression for the posterior pdf, using a using a multinomial model for observed ratings. Recall that the multinomial pdf is given by:\n",
    "$$\n",
    "f_{\\mathbf{X}\\vert  \\Theta}(\\mathbf{x}) = \\frac{n!}{x_1! \\ldots x_k!} \\theta_1^{x_1} \\ldots \\theta_k^{x_k}\n",
    "$$\n",
    "where $n$ is the total number of trials, $\\theta_i$ is the probability of event $i$ and $\\sum_i \\theta_i = 1$, and $x_i$ is count of outcome $i$ and $\\sum_i x_i = n$. \n",
    "\n",
    "  **Note:** The data you will need in order to define the likelihood function should be read off the image files included in the dataset.\n",
    "  \n",
    "\n",
    "1.3. Sample 1,000 values of $\\theta$ from the *posterior distribution*.\n",
    " \n",
    "1.4. Sample 1,000 values of $x$ from the *posterior predictive distribution*.\n",
    "\n",
    "1.5. Name at least two major potential problems with using only the average customer ratings to compare products.\n",
    "\n",
    "  (**Hint:** if product 1 has a higher average rating than product 2, can we conclude that product 1 is better liked? If product 1 and product 2 have the same average rating, can we conclude that they are equally good?)\n",
    "  \n",
    "\n",
    "1.6. Using the samples from your *posterior distribution*, determine which rubber chicken product is superior. Justify your conclusion with sample statistics.\n",
    "\n",
    "1.7. Using the samples from your *posterior predictive distribution*, determine which rubber chicken product is superior. Justify your conclusion with sample statistics.\n",
    "\n",
    "1.8. Finally, which rubber chicken product is superior?\n",
    "\n",
    "  (**Note:** we're not looking for \"the correct answer\" here, any sound decision based on a statistically correct interpretation of your model will be fine)"
   ]
  },
  {
   "cell_type": "markdown",
   "metadata": {},
   "source": [
    "---\n",
    "### Answer 1.1\n",
    "\n",
    "$\\alpha_i$: psuedo-counts of seen $\\theta_i$, should be all >1, or the Dirichlet distribution is sparse. \n",
    "\n",
    "Since most reviews are 1 or 5 stars, an appropriate choice of $\\alpha$ can be $[1000, 1, 1, 1, 1000]$.\n",
    "\n",
    "---\n",
    "### Answer 1.2\n",
    "\n",
    "**Prior**: for $\\sum_{i=1}^k \\theta_i = 1$,\n",
    "$$p(\\theta) = \\text{Dirichlet}(\\theta; \\alpha) = \\frac{1}{B(\\alpha)}\\prod_{i=1}^k \\theta_i^{\\alpha_i - 1}\n",
    "$$\n",
    "**Data Likelihood**: Let $X = \\{x_1, \\ldots, x_n\\}$, for $\\sum_{i=1}^k x_i = n$,\n",
    "$$p(X|\\theta) = \\frac{n!}{x_1! \\ldots x_n!} \\prod_{i=1}^k \\theta_i^{x_i}\n",
    "$$\n",
    "**Posterior**:\n",
    "$$p(\\theta | X) \\propto p(\\theta) p(X|\\theta)\n",
    "= \\frac{1}{B(\\alpha)} \\frac{n!}{x_1! \\ldots x_n!} \\prod_{i=1}^k \\theta_i^{x_i + \\alpha_i - 1}\n",
    "\\propto \\text{Dirichlet}(\\theta; \\alpha + X)\n",
    "$$\n",
    "where\n",
    "$$\\alpha + X = [\\alpha_1 + x_1, \\ldots, \\alpha_n + x_n]\n",
    "$$\n",
    "\n",
    "---\n",
    "### Answer - Code 1.3, 1.4"
   ]
  },
  {
   "cell_type": "code",
   "execution_count": 2,
   "metadata": {
    "collapsed": true
   },
   "outputs": [],
   "source": [
    "np.random.seed(1)\n",
    "\n",
    "# prior and data\n",
    "alpha = np.array([1000, 1, 1, 1, 1000])\n",
    "X1 = np.array([109, 27, 10, 6, 10])\n",
    "X2 = np.array([246, 45, 29, 33, 57])\n",
    "\n",
    "# 1.3 sample 1000x from theta's posterior\n",
    "theta_post_1 = np.random.dirichlet(alpha+X1, 1000)\n",
    "theta_post_2 = np.random.dirichlet(alpha+X2, 1000)\n",
    "\n",
    "# 1.4 sample 1000x from posterior predictive\n",
    "X_pp_1 = np.array([np.random.multinomial(5, theta_post_1[i]) for i in range(1000)])\n",
    "X_pp_2 = np.array([np.random.multinomial(5, theta_post_2[i]) for i in range(1000)])"
   ]
  },
  {
   "cell_type": "markdown",
   "metadata": {},
   "source": [
    "---\n",
    "### Answer 1.5\n",
    "\n",
    "**2 major issues using mean rating:**\n",
    "\n",
    "- 2 ratings distributions with same mean can have difference variances. I.e., the possible difference that one distribution may have polarized ratings versus the other having uniform median ratings would be ignored.\n",
    "- A higher mean rating does not necessarily imply a better rating without consideration of total count of ratings. E.g., mean rating of 5 coming from only 1 score is not sufficient evidence for good quality.\n",
    "\n",
    "---\n",
    "### Answer - Code 1.6"
   ]
  },
  {
   "cell_type": "code",
   "execution_count": 3,
   "metadata": {},
   "outputs": [
    {
     "data": {
      "image/png": "[encoded data removed]",
      "text/plain": [
       "<matplotlib.figure.Figure at 0x1161ada58>"
      ]
     },
     "metadata": {},
     "output_type": "display_data"
    }
   ],
   "source": [
    "# 1.6\n",
    "fig, axes = plt.subplots(1, 2, figsize=(8, 4))\n",
    "pd.Series(theta_post_1.mean(axis=0)).plot(kind='bar', ax=axes[0], title=r'Posterior $\\theta_1$ Mean')\n",
    "pd.Series(theta_post_2.mean(axis=0)).plot(kind='bar', ax=axes[1], title=r'Posterior $\\theta_2$ Mean')\n",
    "\n",
    "plt.tight_layout()"
   ]
  },
  {
   "cell_type": "code",
   "execution_count": 4,
   "metadata": {},
   "outputs": [
    {
     "name": "stdout",
     "output_type": "stream",
     "text": [
      "Posterior Distribution Statistics\n",
      "\n",
      "--- Lotus World ---\n",
      "Mean, Std and 95% CI of thetas:\n",
      "1: mean = 0.5114852459087591, std = 0.01055304165208482, CI = [0.4898694359291991, 0.530968152703637]\n",
      "2: mean = 0.013072964745182571, std = 0.0025558462494280126, CI = [0.008474026699593568, 0.018660810311769978]\n",
      "3: mean = 0.005045661764525431, std = 0.001558959263147883, CI = [0.0024701410298258513, 0.00876373982860273]\n",
      "4: mean = 0.0032822465679146796, std = 0.001256916750209191, CI = [0.001349292854159108, 0.006317892509570851]\n",
      "5: mean = 0.46711388101361795, std = 0.01052788449724963, CI = [0.4476562264804793, 0.48921580243100393]\n",
      "\n",
      "--- Toysmith ---\n",
      "Mean, Std and 95% CI of thetas:\n",
      "1: mean = 0.5162654401625343, std = 0.010089912595720675, CI = [0.4975175967260403, 0.5369283091253497]\n",
      "2: mean = 0.01902819724353664, std = 0.0026262374621515406, CI = [0.014230618212845426, 0.024359461056295523]\n",
      "3: mean = 0.012474359120238986, std = 0.0022982600475664134, CI = [0.008199954378089217, 0.017198354432148268]\n",
      "4: mean = 0.014062479967121538, std = 0.0024128348999080734, CI = [0.0098366414468851, 0.01899903639429287]\n",
      "5: mean = 0.43816952350656935, std = 0.010017273868913934, CI = [0.41743299193876016, 0.4574766760802963]\n"
     ]
    }
   ],
   "source": [
    "theta_p1_mean = theta_post_1.mean(axis=0)\n",
    "theta_p1_std = theta_post_1.std(axis=0)\n",
    "theta_p1_CI_left = np.percentile(theta_post_1, q=2.5, axis=0)\n",
    "theta_p1_CI_right = np.percentile(theta_post_1, q=97.5, axis=0)\n",
    "\n",
    "theta_p2_mean = theta_post_2.mean(axis=0)\n",
    "theta_p2_std = theta_post_2.std(axis=0)\n",
    "theta_p2_CI_left = np.percentile(theta_post_2, q=2.5, axis=0)\n",
    "theta_p2_CI_right = np.percentile(theta_post_2, q=97.5, axis=0)\n",
    "\n",
    "print('Posterior Distribution Statistics\\n')\n",
    "\n",
    "print('--- Lotus World ---')\n",
    "print('Mean, Std and 95% CI of thetas:')\n",
    "_ = [print('{}: mean = {}, std = {}, CI = [{}, {}]'.format(\n",
    "    i+1, theta_p1_mean[i], theta_p1_std[i], theta_p1_CI_left[i], theta_p1_CI_right[i])) for i in range(5)]\n",
    "\n",
    "print('\\n--- Toysmith ---')\n",
    "print('Mean, Std and 95% CI of thetas:')\n",
    "_ = [print('{}: mean = {}, std = {}, CI = [{}, {}]'.format(\n",
    "    i+1, theta_p2_mean[i], theta_p2_std[i], theta_p2_CI_left[i], theta_p2_CI_right[i])) for i in range(5)]"
   ]
  },
  {
   "cell_type": "markdown",
   "metadata": {},
   "source": [
    "### Answer 1.6\n",
    "Based on statistics on the 2 posterior distributions, Lotus World has slightly smaller $\\theta_1$ and larger $\\theta_5$ than Toysmith, suggesting Lotus World being slightly better than Toysmith.\n",
    "\n",
    "---"
   ]
  },
  {
   "cell_type": "code",
   "execution_count": 5,
   "metadata": {},
   "outputs": [
    {
     "data": {
      "image/png": "[encoded data removed]",
      "text/plain": [
       "<matplotlib.figure.Figure at 0x11eeef828>"
      ]
     },
     "metadata": {},
     "output_type": "display_data"
    }
   ],
   "source": [
    "# 1.7\n",
    "fig, axes = plt.subplots(1, 2, figsize=(8, 4))\n",
    "pd.Series(X_pp_1.mean(axis=0)).plot(kind='bar', ax=axes[0], title=r'Posterior Predictive $X_1$ Mean')\n",
    "pd.Series(X_pp_2.mean(axis=0)).plot(kind='bar', ax=axes[1], title=r'Posterior Predictive $X_2$ Mean')\n",
    "\n",
    "plt.tight_layout()"
   ]
  },
  {
   "cell_type": "markdown",
   "metadata": {},
   "source": [
    "---\n",
    "### Answer - Code 1.7"
   ]
  },
  {
   "cell_type": "code",
   "execution_count": 6,
   "metadata": {},
   "outputs": [
    {
     "name": "stdout",
     "output_type": "stream",
     "text": [
      "Posterior Predictive Distribution Statistics\n",
      "\n",
      "--- Lotus World ---\n",
      "Mean, Std and 95% CI of Xi:\n",
      "1: mean = 2.519, std = 1.1258947552946503, CI = [0.0, 5.0]\n",
      "2: mean = 0.081, std = 0.27647603874477056, CI = [0.0, 1.0]\n",
      "3: mean = 0.025, std = 0.156124949959959, CI = [0.0, 0.024999999999977263]\n",
      "4: mean = 0.014, std = 0.11749042514179688, CI = [0.0, 0.0]\n",
      "5: mean = 2.361, std = 1.1343187382742113, CI = [0.0, 4.0]\n",
      "\n",
      "--- Toysmith ---\n",
      "Mean, Std and 95% CI of Xi:\n",
      "1: mean = 2.559, std = 1.1200531237401194, CI = [0.0, 5.0]\n",
      "2: mean = 0.085, std = 0.2894391127681257, CI = [0.0, 1.0]\n",
      "3: mean = 0.065, std = 0.25054939632734974, CI = [0.0, 1.0]\n",
      "4: mean = 0.074, std = 0.2766297164080553, CI = [0.0, 1.0]\n",
      "5: mean = 2.217, std = 1.09995954471062, CI = [0.0, 4.0]\n"
     ]
    }
   ],
   "source": [
    "X_pp_1_mean = X_pp_1.mean(axis=0)\n",
    "X_pp_1_std = X_pp_1.std(axis=0)\n",
    "X_pp_1_CI_left = np.percentile(X_pp_1, q=2.5, axis=0)\n",
    "X_pp_1_CI_right = np.percentile(X_pp_1, q=97.5, axis=0)\n",
    "\n",
    "X_pp_2_mean = X_pp_2.mean(axis=0)\n",
    "X_pp_2_std = X_pp_2.std(axis=0)\n",
    "X_pp_2_CI_left = np.percentile(X_pp_2, q=2.5, axis=0)\n",
    "X_pp_2_CI_right = np.percentile(X_pp_2, q=97.5, axis=0)\n",
    "\n",
    "print('Posterior Predictive Distribution Statistics\\n')\n",
    "\n",
    "print('--- Lotus World ---')\n",
    "print('Mean, Std and 95% CI of Xi:')\n",
    "_ = [print('{}: mean = {}, std = {}, CI = [{}, {}]'.format(\n",
    "    i+1, X_pp_1_mean[i], X_pp_1_std[i], X_pp_1_CI_left[i], X_pp_1_CI_right[i])) for i in range(5)]\n",
    "\n",
    "print('\\n--- Toysmith ---')\n",
    "print('Mean, Std and 95% CI of Xi:')\n",
    "_ = [print('{}: mean = {}, std = {}, CI = [{}, {}]'.format(\n",
    "    i+1, X_pp_2_mean[i], X_pp_2_std[i], X_pp_2_CI_left[i], X_pp_2_CI_right[i])) for i in range(5)]"
   ]
  },
  {
   "cell_type": "markdown",
   "metadata": {},
   "source": [
    "### Answer 1.7\n",
    "Based on statistics on the 2 posterior predictive distributions, Lotus World has slightly smaller $X_1$ and larger $X_5$ than Toysmith, suggesting Lotus World being slightly better than Toysmith.\n",
    "\n",
    "\n",
    "---\n",
    "### Answer 1.8\n",
    "The conclusions from posterior and posterior predictive are consistent: Lotus World is slightly better than Toysmith.\n",
    "\n",
    "---"
   ]
  },
  {
   "cell_type": "markdown",
   "metadata": {},
   "source": [
    "## Question 2: He Who is Not Courageous Enough to Take Risks Will Accomplish Nothing In Life\n",
    "\n",
    "**No Coding required**\n",
    "\n",
    "Consider a setting where the feature and label space are $\\mathcal{X} = \\mathcal{Y} = [0, 1]$.    In this exercise we will consider both the square loss and the absolute loss, namely:\n",
    "\n",
    "$$ \\mathbb{l}_{sq}(y_1, y_2) = (y_1 - y_2)^2 $$\n",
    "$$ \\mathbb{l}_{abs}(y_1, y_2) = \\left \\vert y_1 - y_2 \\right \\vert $$\n",
    "\n",
    "\n",
    "Let (X, Y) be random, with the following with joint probability density $p_{XY}(x, y) = 2y$, where $x, y \\ \\in \\  [0, 1]$.  We define **statistical risk** as follows:\n",
    "\n",
    "**Definition (Statistical Risk)** For a prediction rule $f$ and a joint distribution of features and labels $P_{XY}$ the statistical risk $\\mathcal{R}(f)$ of $f$ is defined as \n",
    "\n",
    "$$\\mathcal{R}(f) \\equiv \\mathbb{E}_{XY}\\left[\\mathbb{l}(f(X),Y)\\ \\vert \\ f \\right]$$,\n",
    "\n",
    "where $(X, Y) \\sim P_{XY}$.  The conditional statement ensures the definition is sensible even if $f$ is a random quantity.\n",
    "\n",
    "\n",
    "2.1. Show that in this case $X$ and $Y$ are independent, meaning the feature $X$ carries no information about Y.\n",
    "\n",
    "2.2. What is the risk of prediction rule $f(x) = \\frac{1}{2}$ according to the two loss functions?\n",
    "\n",
    "2.3. What is the risk of the prediction rule $f^*(x) = \\frac{1}{\\sqrt{2}}$ according to the two loss functions?\n",
    "\n",
    "2.4. Show that $f^*$ has actually the smallest absolute loss risk among all prediction rules.\n",
    "\n",
    "**Hint (for 2.3):**\n",
    "\n",
    "`In general the Bayes predictor according to the absolute value loss is the median of the conditional distribution of $Y$ given $X = x$.`"
   ]
  },
  {
   "cell_type": "markdown",
   "metadata": {},
   "source": [
    "---\n",
    "### Answer 2.1\n",
    "$$p(x) = \\int p(x,y) dy = \\int_0^1 2y dy = y^2 \\Big|_0^1 = 1$$\n",
    "\n",
    "$$p(y) = \\int p(x,y) dx = \\int_0^1 2y dx = 2yx \\Big|_0^1 = 2y$$\n",
    "\n",
    "$$\\Rightarrow p(x)p(y) = 1 \\cdot 2y = 2y = p(x,y)$$\n",
    "\n",
    "Therefore, $X$ and $Y$ are independent.\n",
    "\n",
    "---\n",
    "### Answer 2.2\n",
    "$f(x) = \\frac{1}{2}$\n",
    "\n",
    "- According to SQUARE LOSS $\\mathbb{l}_{sq}(f(x), y)$:\n",
    "\n",
    "$$\n",
    "\\begin{align}\n",
    "\\mathbb{E}_{XY} \\big[(y- \\frac{1}{2})^2 \\big] &= \\int_{0}^{1}\\int_{0}^{1}(y- \\frac{1}{2})^2 \\cdot 2y \\thinspace \\thinspace dx \\thinspace dy \\\\\n",
    " &= \\int_{0}^{1}(y- \\frac{1}{2})^2 \\cdot 2y \\thinspace \\thinspace dy \\\\\n",
    " &= \\int_{0}^{1}(y^2 - y + \\frac{1}{4}) \\cdot 2y \\thinspace \\thinspace dy \\\\\n",
    " &= \\int_{0}^{1}2y^3 - 2y^2 + \\frac{y}{2}\\thinspace \\thinspace dy \\\\\n",
    " &= \\bigg(\\frac{y^4}{2} - \\frac{2y^3}{3} + \\frac{y^2}{4}\\bigg) \\Big|_0^1 \\\\\n",
    " & = \\frac{1}{12}\n",
    "\\end{align}\n",
    "$$ \n",
    "\n",
    "- According to ABSOLUTE LOSS $\\mathbb{l}_{abs}(f(x), y)$:\n",
    "\n",
    "$$\n",
    "\\begin{align}\n",
    "\\mathbb{E}_{XY} \\big[ \\thinspace \\big|y- \\frac{1}{2}\\big| \\thinspace \\big] &= \\int_{0}^{1}\\int_{0}^{1} \\big|y- \\frac{1}{2}\\big| \\cdot 2y \\thinspace \\thinspace dx \\thinspace dy \\\\\n",
    "&= \\int_{0}^{1} \\big|y- \\frac{1}{2}\\big| \\cdot 2y \\thinspace \\thinspace dy \\\\\n",
    "&= \\int_{0}^{\\frac{1}{2}} - (y- \\frac{1}{2}) \\cdot 2y \\thinspace \\thinspace dy + \\int_{\\frac{1}{2}}^{1} y- \\frac{1}{2} \\cdot 2y \\thinspace \\thinspace dy  \\\\\n",
    "&= \\int_{0}^{1/2} - 2y^2 + y\\thinspace \\thinspace dy + \\int_{1/2}^{1} 2y^2 - y \\thinspace \\thinspace dy  \\\\\n",
    "&= \\bigg( \\frac{-2y^3}{3} + \\frac{y^2}{2}\\bigg) \\Big|_0^{1/2} + \\bigg( \\frac{2y^2}{3} - \\frac{y^2}{2} \\bigg) \\Big|_{1/2}^1 \\\\\n",
    "&= \\frac{1}{4}\n",
    "\\end{align}\n",
    "$$\n",
    "\n",
    "---\n",
    "### Answer 2.3\n",
    "$f^*(x) = \\frac{1}{\\sqrt{2}}$\n",
    "\n",
    "- According to SQUARE LOSS $\\mathbb{l}_{sq}(f(x), y)$:\n",
    "\n",
    "$$\n",
    "\\begin{align}\n",
    "\\mathbb{E}_{XY} \\big[(y- \\frac{1}{\\sqrt{2}})^2 \\big] &= \\int_{0}^{1}\\int_{0}^{1}(y- \\frac{1}{\\sqrt{2}})^2 \\cdot 2y \\thinspace \\thinspace dx \\thinspace dy \\\\\n",
    " &= \\int_{0}^{1}(y- \\frac{1}{\\sqrt{2}})^2 \\cdot 2y \\thinspace \\thinspace dy \\\\\n",
    " &= \\int_{0}^{1}(y^2 - \\frac{2}{\\sqrt{2}}y + \\frac{1}{2}) \\cdot 2y \\thinspace \\thinspace dy \\\\\n",
    " &= \\int_{0}^{1}2y^3 - \\frac{4}{\\sqrt{2}} y^2 + y \\thinspace \\thinspace dy \\\\\n",
    " &= \\bigg(\\frac{y^4}{2} - \\frac{4}{\\sqrt{2}} \\frac{y^3}{3} + \\frac{y^2}{2}\\bigg) \\Big|_0^1 \\\\\n",
    " & = 1 - \\frac{4}{3 \\sqrt{2}} \\approx 0.05719\n",
    "\\end{align}\n",
    "$$ \n",
    "\n",
    "- According to ABSOLUTE LOSS $\\mathbb{l}_{abs}(f(x), y)$:\n",
    "\n",
    "$$\n",
    "\\begin{align}\n",
    "\\mathbb{E}_{XY} \\big[ \\thinspace \\big|y- \\frac{1}{\\sqrt{2}}\\big| \\thinspace \\big] &= \\int_{0}^{1}\\int_{0}^{1} \\big|y- \\frac{1}{\\sqrt{2}}\\big| \\cdot 2y \\thinspace \\thinspace dx \\thinspace dy \\\\\n",
    "&= \\int_{0}^{1} \\big|y- \\frac{1}{\\sqrt{2}}\\big| \\cdot 2y \\thinspace \\thinspace dy \\\\\n",
    "&= \\int_{0}^{\\frac{1}{\\sqrt{2}}} - (y- \\frac{1}{\\sqrt{2}}) \\cdot 2y \\thinspace \\thinspace dy + \\int_{\\frac{1}{\\sqrt{2}}}^{1} y- \\frac{1}{\\sqrt{2}} \\cdot 2y \\thinspace \\thinspace dy  \\\\\n",
    "&= \\int_{0}^{1/\\sqrt{2}} - 2y^2 + \\frac{2}{\\sqrt{2}}y\\thinspace \\thinspace dy + \\int_{1/\\sqrt{2}}^{1} 2y^2 - \\frac{2}{\\sqrt{2}}y \\thinspace \\thinspace dy  \\\\\n",
    "&= \\bigg( \\frac{-2y^3}{3} + \\frac{y^2}{\\sqrt{2}}\\bigg) \\Big|_0^{1/\\sqrt{2}} + \\bigg( \\frac{2y^2}{3} - \\frac{y^2}{\\sqrt{2}} \\bigg) \\Big|_{1/\\sqrt{2}}^1 \\\\\n",
    "&= \\frac{2}{3} - \\frac{2}{3\\sqrt{2}} \\approx 0.19526\n",
    "\\end{align}\n",
    "$$\n",
    "\n",
    "---\n",
    "### Answer 2.4 - method 1\n",
    "To show that $f^*$ has the smallest absolute loss risk among all prediction rules, we show that the Bayes predictor according the absolute loss risk is $f^*$. From the hint, we know that the Bayes predictor here is the median of the conditional distribution of $Y$ given $X = x$. Since $Y$ is independent of $X$, the conditional distribution of $Y$ given $X = x$ is $p(y)$.\n",
    "\n",
    "So we have the following CDF:\n",
    "\n",
    "$$ \n",
    "\\begin{align}\n",
    "F(Y|X) = F(Y) &= \\int_{0}^{y} 2s \\thinspace ds \\\\\n",
    "&= \\frac{2s^2}{2} \\Big|_0^y \\\\\n",
    "&= y^2\n",
    "\\end{align}\n",
    "$$\n",
    "\n",
    "To get the median, we set the CDF equal to $\\frac{1}{2}$ and solve for $y$:\n",
    "\n",
    "$$\n",
    "\\begin{align}\n",
    "y^2 &= \\frac{1}{2}\\\\\n",
    "y &= \\frac{1}{\\sqrt{2}} = f^*\n",
    "\\end{align}\n",
    "$$\n",
    "\n",
    "---\n",
    "### Answer 2.4 - method 2\n",
    "$Y \\in (0, 1) \\Rightarrow f(X) \\in (0, 1)$,\n",
    "$$\n",
    "\\begin{align}\n",
    "\\mathcal{R}(f) &= \\iint \\mathbb{l}_{abs}(f(x), y) dxdy \\\\\n",
    "&=\\int_0^1 dx [\\int_{f(X)}^1 2y (y-f(x)) + \\int_0^{f(X)} 2y(f(x)-y)] \\\\\n",
    "&= \\int_0^1 (\\frac{2}{3} - f(x) + \\frac{2}{3}f^3(x)) dx \n",
    "\\end{align}\n",
    "$$\n",
    "\n",
    "Let $M = f(x) \\in (0, 1)$, and $F(M) = \\frac{2}{3} - M + \\frac{2}{3} M^3$,\n",
    "$$\n",
    "\\frac{\\partial F(M)}{\\partial M} = 2M^2 - 1 = 0 \\Rightarrow M = \\frac{1}{\\sqrt{2}}\n",
    "$$\n",
    "\n",
    "Therefore, $f(x) = \\frac{1}{\\sqrt{2}}$ gives the minimum $\\mathcal{R}(f)$ with absolute loss.\n",
    "\n",
    "---"
   ]
  },
  {
   "cell_type": "markdown",
   "metadata": {},
   "source": [
    "## Question 3: Maxwell's Demon Has a Wonderful Way of showing us What Really Matters\n",
    "\n",
    "**Some Coding required**\n",
    "\n",
    "3.1. Find the entropy of the exponential probability density on support (0, $\\infty$) with mean $\\lambda$.\n",
    "\n",
    "3.2. Show that the exponential distribution $p^*$ is the maximum entropy distribution on support (0, $\\infty$)  with specified mean $\\lambda$. That is to say prove that for any continuous probability density function $p(x)$ on (0, $\\infty$) with mean $\\lambda$ then the entropy h(p) <= h($p^*$) with equality if and only if p is also the exponential with mean $\\lambda$\n",
    "\n",
    "\n",
    "We're familiar with the CLT as a way of approximating the sum of IID random variables with an appropriate Normal distribution.  Let's investigate this relationship by using the KL-Divergence.  Given n identically distributed Bernoulli variables $Y_i \\sim Bern(p)$, then their sum approaches a Normal distribution.\n",
    "\n",
    "3.3. Visualize this relationship by drawing n = 10,000 samples from a Bernoulli with p = 0.02.  These samples determine a random variable and thus a probability distribution (which in the last homework we called the empirical distribution of the data).  Visualize this probability distribution by plotting a normed histogram of the samples.  On your plot overlay the appropriately fitted Gaussian distribution.  Make sure to appropriately title and label your plot.\n",
    "\n",
    "3.4. From visual inspection are the two distributions close to each other?\n",
    "\n",
    "3.5. Formalize your answer to 3.3 and 3.4 by writing a program to compute the K-L divergence between the two distributions (the sum of 10000 sampled Bernoullis and the appropriate Gaussian).  What is the value of the KL divergence.\n",
    "\n",
    "3.6. Let's visualize the convergence of the sum of bernoulli RVs to a Gaussian as fortold by the CLT by repeating the process from 3.5 for various values of n.  We'll set our selection of sample sizes to the following: [100, 250, 500, 750, 1000, 2500, 5000, 7500, 10000, 50000, 100000].  Setting n to each of the specified sample sizes repeat the following procedure 10 times:\n",
    "\n",
    "* Draw n bernoulli samples using the Bernoulli parameter from 3.3 (p=0.02).\n",
    "* Calculate the Kullback-Leibler divergence between the random variable defined by the sum of Bernoullis samples and the appropriately fitted gaussian. \n",
    "\n",
    "For each sample size you should have 10 KL divergences. Construct a log scale (in both axes) plot of the Kullback-Leibler divergence and and the 3-$\\sigma$ envelope against the sample size.  What can you convergence of the distributions in question?  What does this mean for the CLT?\n"
   ]
  },
  {
   "cell_type": "markdown",
   "metadata": {},
   "source": [
    "---\n",
    "### Answer 3.1\n",
    "Exponential probability density on $(0, \\infty)$: $p(x) = \\frac{1}{\\lambda} e^{-\\frac{x}{\\lambda}}$,\n",
    "\n",
    "$$\n",
    "\\begin{align}\n",
    "H(p) = -E_p[\\log(p)]\n",
    "&= \\frac{\\log \\lambda}{\\lambda} \\int_0^\\infty e^{-\\frac{x}{\\lambda}} dx + \\frac{1}{\\lambda^2} \\int_0^\\infty x e^{-\\frac{x}{\\lambda}} dx \\\\\n",
    "&= \\log \\lambda e^{-\\lambda x} \\Big|_\\infty^0 - \\frac{1}{\\lambda} \\int_0^\\infty x d(e^{-\\frac{x}{\\lambda}}) \\\\\n",
    "&= \\log \\lambda - \\frac{1}{\\lambda} (x e^{-\\frac{x}{\\lambda}} \\Big|_0^\\infty - \\int_0^\\infty e^{-\\frac{x}{\\lambda}} dx)\\\\\n",
    "&= \\log \\lambda -\\frac{1}{\\lambda} (0 - \\lambda) \\\\\n",
    "&= \\log \\lambda + 1\n",
    "\\end{align}\n",
    "$$\n",
    "\n",
    "---\n",
    "### Answer 3.2\n",
    "Exponential probability density on $(0, \\infty)$: $p^*(x) = \\frac{1}{\\lambda} e^{-\\frac{x}{\\lambda}}$, and we know\n",
    "$H(p^*) = \\log \\lambda + 1$ from 3.1. \n",
    "\n",
    "$H(p, p*)$ be the cross entropy between the exponential density and any other continuous density $p(x)$ on $(0, \\infty)$,\n",
    "\n",
    "$$\n",
    "D_{KL}(p, p^*) = E_p[\\log (\\frac{p}{p^*})] = H(p, p^*) - H(p) \\geq 0 \n",
    "\\Rightarrow\n",
    "H(p, p^*) \\geq H(p)\n",
    "$$\n",
    "\n",
    "$$\n",
    "\\begin{align} H(p, p^*) = -E_p[\\log(p^*)]\n",
    "&= -\\int_0^\\infty p(x) \\log(\\frac{1}{\\lambda} e^{-\\frac{x}{\\lambda}}) dx \\\\\n",
    "&= \\int_0^\\infty p(x)(\\log \\lambda + \\frac{x}{\\lambda}) dx \\\\\n",
    "&= \\log \\lambda \\int_0^\\infty p(x) dx + \\frac{1}{\\lambda} \\int_0^\\infty p(x) x dx \\\\\n",
    "&= \\log \\lambda + 1 \\\\\n",
    "&= H(p^*)\n",
    "\\end{align}\n",
    "$$\n",
    "\n",
    "$$\\Rightarrow H(p, p^*) = H(p^*) \\geq H(p)$$\n",
    "\n",
    "Hence, the exponential distribution $p^*$ (mean = $\\lambda$) is the maximum entropy distribution on support (0, $\\infty$). The equality can only be reached when $D_{KL}(p, p^*) = 0$, i.e., p is also the exponential distribution with mean $= \\lambda$.\n",
    "\n",
    "---\n",
    "### Answer - Code 3.3"
   ]
  },
  {
   "cell_type": "code",
   "execution_count": 7,
   "metadata": {},
   "outputs": [
    {
     "data": {
      "image/png": "[encoded data removed]",
      "text/plain": [
       "<matplotlib.figure.Figure at 0x11f076e80>"
      ]
     },
     "metadata": {},
     "output_type": "display_data"
    }
   ],
   "source": [
    "np.random.seed(1)\n",
    "\n",
    "# 3.3 \n",
    "bern_sum_samples = np.random.binomial(n=10000, p=0.02, size=1000000)\n",
    "\n",
    "fig, ax = plt.subplots(1, 1, figsize=(6, 4))\n",
    "pd.Series(bern_sum_samples).plot(kind='hist', bins=25, density=True, alpha=0.5, ax=ax, \n",
    "                             label='Data')\n",
    "\n",
    "# fit a normal distribution\n",
    "mu, std = norm.fit(bern_sum_samples)\n",
    "# plot the fitted normal distribution\n",
    "xmin, xmax = plt.xlim()\n",
    "x = np.linspace(xmin, xmax, 10000)\n",
    "fitted_norm = norm.pdf(x, mu, std)\n",
    "ax.plot(x, fitted_norm, '-', label='Fitted Normal Distribution')\n",
    "ax.set_title('Empirical & Fitted Normal Density')\n",
    "plt.legend(bbox_to_anchor=(1.05, 1), loc=2, borderaxespad=0., fontsize=12)\n",
    "plt.tight_layout()"
   ]
  },
  {
   "cell_type": "markdown",
   "metadata": {},
   "source": [
    "---\n",
    "### Answer 3.4\n",
    "The fitted normal distribution and the empirical distribution look similar.\n",
    "\n",
    "---"
   ]
  },
  {
   "cell_type": "code",
   "execution_count": 8,
   "metadata": {},
   "outputs": [
    {
     "name": "stdout",
     "output_type": "stream",
     "text": [
      "KLD(sum_bernoulli_samples, fitted_normal) 0.0004985757436031871\n"
     ]
    }
   ],
   "source": [
    "# 3.5\n",
    "def KLD_x_norm(samples, binom_n, binom_p):\n",
    "    clt_mu = binom_n * binom_p\n",
    "    clt_std = np.sqrt(binom_n * binom_p * (1-binom_p))\n",
    "    \n",
    "    # unique value counts\n",
    "    samp_counts = pd.DataFrame(samples, columns=['samp']).reset_index().groupby(['samp']).agg(len)['index']\n",
    "    \n",
    "    # normalize counts to frequency\n",
    "    samp_freq = samp_counts/samp_counts.sum()\n",
    "    \n",
    "    ix = np.where(samp_freq.values > 1e-15) # indices where p(sample) != 0\n",
    "    _norm = norm.pdf(samp_counts.index[ix], clt_mu, clt_std) # normal distribution\n",
    "    \n",
    "    kld = samp_freq.values[ix].dot(np.log(samp_freq.values[ix] / _norm))\n",
    "    return kld\n",
    "\n",
    "print('KLD(sum_bernoulli_samples, fitted_normal)', KLD_x_norm(bern_sum_samples, 10000, 0.02))"
   ]
  },
  {
   "cell_type": "markdown",
   "metadata": {},
   "source": [
    "### Answer 3.5\n",
    "The KL divergence from normal to the sum of bernoulli samples $\\approx$ 0.0005 \n",
    "\n",
    "**```bern_sum_samples = np.random.binomial(n=10000, p=0.02, size=1000000)``` 这句的size 好像要很大？？不然结果不一样** \n",
    "\n",
    "---"
   ]
  },
  {
   "cell_type": "code",
   "execution_count": 9,
   "metadata": {
    "scrolled": false
   },
   "outputs": [
    {
     "data": {
      "image/png": "[encoded data removed]",
      "text/plain": [
       "<matplotlib.figure.Figure at 0x10ef7a4a8>"
      ]
     },
     "metadata": {},
     "output_type": "display_data"
    }
   ],
   "source": [
    "# 3.6\n",
    "n_values = [100, 250, 500, 750, 1000, 2500, 5000, 7500, 10000, 50000, 100000]\n",
    "n_sim = 10\n",
    "KLDs = np.zeros((len(n_values), n_sim))\n",
    "for _i, _n_val in enumerate(n_values):\n",
    "    for _j in range(n_sim):\n",
    "        # draw samples\n",
    "        _bern_sum_samples = np.random.binomial(n=_n_val, p=0.02, size=2000000)\n",
    "        \n",
    "        # compute KL divergence\n",
    "        KLDs[_i, _j] = KLD_x_norm(_bern_sum_samples, _n_val, 0.02)\n",
    "\n",
    "# plot KLD vs. n\n",
    "fig, ax = plt.subplots(1, 1, figsize=(7, 5))\n",
    "ax.errorbar(x=n_values, y=KLDs.mean(axis=1), yerr=(KLDs.std(axis=1)*3), fmt='-o')\n",
    "ax.set_title('KL Divergenece VS. n', fontsize=16)\n",
    "ax.set_xlabel('n (log10)', fontsize=14)\n",
    "ax.set_ylabel('Mean KLD (log10)', fontsize=14)\n",
    "ax.set_xscale('log')\n",
    "ax.set_yscale('log')\n",
    "plt.tight_layout()"
   ]
  },
  {
   "cell_type": "markdown",
   "metadata": {},
   "source": [
    "### Answer - 3.6\n",
    "**What can you convergence of the distributions in question?  What does this mean for the CLT?**\n",
    "\n",
    "Consistent with the CLT, as `n` increases, the mean KL divergences in replications decrease, but their standard errors increase??? **EXPLAIN**\n",
    "\n",
    "---"
   ]
  },
  {
   "cell_type": "markdown",
   "metadata": {},
   "source": [
    "## Q4: Marvel at the DC Flash Light Speed experiment\n",
    "\n",
    "Simon Newcomb did an experiment in 1882 to measure the speed of light. These are the times required for light to travel 7442 metres. These are recorded as deviations from 24,800 nanoseconds."
   ]
  },
  {
   "cell_type": "markdown",
   "metadata": {},
   "source": [
    "This data is in the following dataset $D$."
   ]
  },
  {
   "cell_type": "code",
   "execution_count": 10,
   "metadata": {
    "collapsed": true
   },
   "outputs": [],
   "source": [
    "light_speed = np.array([28, 26, 33, 24, 34, -44, 27, 16, 40, -2, 29, 22, 24, 21, 25,\n",
    "                        30, 23, 29, 31, 19, 24, 20, 36, 32, 36, 28, 25, 21, 28, 29,\n",
    "                        37, 25, 28, 26, 30, 32, 36, 26, 30, 22, 36, 23, 27, 27, 28,\n",
    "                        27, 31, 27, 26, 33, 26, 32, 32, 24, 39, 28, 24, 25, 32, 25,\n",
    "                        29, 27, 28, 29, 16, 23])"
   ]
  },
  {
   "cell_type": "markdown",
   "metadata": {},
   "source": [
    "4.1. Plot a histogram of the data. Are there outliers in the data?  What data points might you consider to be outliers?\n",
    "\n",
    "4.2. We use a normal models with weakly informative priors to model this experiment. In particular assume uniform priors for both $\\mu$ and $\\sigma$:\n",
    "\n",
    "$$\\mu \\sim Uniform(0, 60)$$\n",
    "\n",
    "$$\\sigma \\sim Uniform(0.1, 50)$$\n",
    "\n",
    "Write down an expression for the posterior (joint) pdf $p(\\mu, \\sigma \\vert D)$.\n",
    "\n",
    "4.3. Set up a 500 point grid in both the $\\mu$ space and the $\\sigma$ space. Compute the normalized posterior on this grid and make a contour plot of it. \n",
    "\n",
    "**Hint: `np.meshgrid` is your friend**\n",
    "\n",
    "4.4. Use this normalized posterior to sample from the grid, posterior samples of size 500000. That is the posterior should be of shape `(500000, 2)`. (Hint: one way to do it is to first flatten the meshgrid into a grid of shape (250000, 2). Flatten the posterior probabilities as well into a size 250000 vector. Then sample 500000 indices and use them to index the grid). Plot the $\\mu$ and $\\sigma$ marginal posteriors.\n",
    "\n",
    "4.5. Experiment with reducing the grid size down to 100x100. How do the marginal posteriors now look? What does this look tell us about the dimensional scaling of this grid-sampling-in-proportion-to-posterior method of obtaining samples?\n",
    "\n",
    "4.6. Now draw from the data sampling normal distribution to obtain the posterior-predictive distribution. You will have as many samples as the size of the posterior. Plot the posterior predictive distribution against the data, and write down your observations.\n",
    "\n",
    "4.7. **Informally using a test-statistic**\n",
    "\n",
    "We might wish to compute a test statistic from the posterior predictive. Say for example, we wish to talk about the minimum value of the posterior predictive.\n",
    "\n",
    "The way to do this is to replicate the posterior predictive multiple times. We replicate the posterior-predictive (that is, do the sampling you did in 4.6) 66 times, which is the size of our dataset. In other words, we create as-many artificial datasets as there are samples in our posterior.\n",
    "\n",
    "This is called a **replicative posterior predictive**.\n",
    "\n",
    "Compute the replicative distribution of the minimum-value of the dataset and compare it to the actual value. What might you conclude about the quality of the specification of our model for the purposes of computing minimum values?"
   ]
  },
  {
   "cell_type": "code",
   "execution_count": 11,
   "metadata": {},
   "outputs": [
    {
     "name": "stdout",
     "output_type": "stream",
     "text": [
      "mean of light speed:  26.21212121212121\n",
      "std of light speed:  10.663610099255504\n"
     ]
    },
    {
     "data": {
      "image/png": "[encoded data removed]",
      "text/plain": [
       "<matplotlib.figure.Figure at 0x11f0a0048>"
      ]
     },
     "metadata": {},
     "output_type": "display_data"
    }
   ],
   "source": [
    "speed_mean = light_speed.mean()\n",
    "speed_std = light_speed.std()\n",
    "print('mean of light speed: ', speed_mean)\n",
    "print('std of light speed: ', speed_std)\n",
    "\n",
    "left_3_std = speed_mean - 3*speed_std\n",
    "right_3_std = speed_mean + 3*speed_std\n",
    "\n",
    "# 4.1 histogram\n",
    "fig, ax = plt.subplots(1, 1, figsize=(6, 4))\n",
    "pd.Series(light_speed).plot(kind='hist', bins=20, density=True, alpha=0.5, ax=ax, title='Histogram (density) of Data')\n",
    "ax.axvline(left_3_std, c='r')\n",
    "ax.axvline(right_3_std, c='r', label='3 std bounds')\n",
    "plt.legend(bbox_to_anchor=(1.05, 1), loc=2, borderaxespad=0., fontsize=12)\n",
    "plt.tight_layout()"
   ]
  },
  {
   "cell_type": "code",
   "execution_count": 12,
   "metadata": {},
   "outputs": [
    {
     "name": "stdout",
     "output_type": "stream",
     "text": [
      "Outliers - outside 3 std away:\n",
      "[-44]\n"
     ]
    }
   ],
   "source": [
    "print('Outliers - outside 3 std away:')\n",
    "print(light_speed[light_speed<left_3_std])"
   ]
  },
  {
   "cell_type": "code",
   "execution_count": 13,
   "metadata": {},
   "outputs": [
    {
     "name": "stdout",
     "output_type": "stream",
     "text": [
      "MLE: mu = 26.21212121212121, sigma = 10.663610099255504\n"
     ]
    }
   ],
   "source": [
    "mu_mle = light_speed.mean()\n",
    "var_mle = np.mean(np.square(light_speed - mu_mle))\n",
    "print('MLE: mu = {}, sigma = {}'.format(mu_mle, np.sqrt(var_mle)))"
   ]
  },
  {
   "cell_type": "markdown",
   "metadata": {},
   "source": [
    "### Answer - 4.1\n",
    "There are outliers (3 standard deviation away from mean): -44\n",
    "\n",
    "---\n",
    "### Answer - 4.2\n",
    "$$\n",
    "\\begin{align}\n",
    "p(\\mu) &= \\frac{1}{60} \\quad \\mu \\in [0, 60]\\\\\n",
    "p(\\sigma) &= \\frac{1}{49.9} \\quad \\sigma \\in [0.1, 50] \\\\ \\\\\n",
    "p(\\mu, \\sigma \\vert D) & \\propto p(D \\vert \\mu, \\sigma) \\thinspace p(\\mu, \\sigma) \\\\\n",
    "&=p(D \\vert \\mu, \\sigma) \\thinspace p(\\mu) p(\\sigma) \\\\\n",
    "&= \n",
    "\\left\\{\n",
    "    \\begin{array}{ll}\n",
    "      \\bigg( \\frac{1}{60}\\bigg) \\bigg(\\frac{1}{49.9} \\bigg) \\quad \\prod_{i=1}^{n} \\frac{1}{\\sqrt{2\\pi\\sigma^2}} \\exp \\bigg[-\\frac{(x_i - \\mu) ^2}{2\\sigma^2} \\bigg], \\mu \\in [0, 60], \\sigma \\in [0.1, 50] \\\\\n",
    "      0, \\ otherwise \n",
    "    \\end{array}\n",
    "\\right.\n",
    "\\end{align}\n",
    "$$\n",
    "\n",
    "So \n",
    "$$\n",
    "p(\\mu, \\sigma \\vert D) =\\quad \\prod_{i=1}^{n} \\frac{1}{\\sqrt{2\\pi\\sigma^2}} \\exp \\bigg[-\\frac{(x_i - \\mu) ^2}{2\\sigma^2} \\bigg]\n",
    "$$\n",
    "after normalization, when $\\mu \\in [0, 60]$ and $\\sigma \\in [0.1, 50]$, otherwise 0.\n",
    "\n",
    "---\n",
    "### Answer - Code 4.3"
   ]
  },
  {
   "cell_type": "code",
   "execution_count": 14,
   "metadata": {},
   "outputs": [
    {
     "data": {
      "image/png": "[encoded data removed]",
      "text/plain": [
       "<matplotlib.figure.Figure at 0x1230bb128>"
      ]
     },
     "metadata": {},
     "output_type": "display_data"
    }
   ],
   "source": [
    "# 4.3\n",
    "def get_posterior(mu, sigma, X):\n",
    "    likelihood = 1.\n",
    "    for xi in X:\n",
    "        likelihood *= norm.pdf(xi, mu, sigma)\n",
    "    prior_x_likelihood = (1/60)*(1/49.9)*likelihood\n",
    "    posterior = prior_x_likelihood / np.sum(prior_x_likelihood)\n",
    "    return posterior\n",
    "\n",
    "mu_lin = np.linspace(0, 60, 500)\n",
    "sigma_lin = np.linspace(0.1, 50, 500)\n",
    "mu_grid, sigma_grid = np.meshgrid(mu_lin, sigma_lin)\n",
    "posterior = get_posterior(mu_grid, sigma_grid, light_speed)\n",
    "\n",
    "# Contour plot joint posterior(mu, sigma)\n",
    "fig, ax = plt.subplots(1, 1, figsize=(5, 5))\n",
    "ax.contour(mu_grid, sigma_grid, posterior, levels=np.arange(posterior.min(),posterior.max(),1e-4))\n",
    "ax.set_xlabel(r'$\\mu$', fontsize=14)\n",
    "ax.set_ylabel(r'$\\sigma$', fontsize=14)\n",
    "ax.set_xlim(20, 30)\n",
    "ax.set_ylim(5, 15)\n",
    "ax.set_title(r'Posterior($\\mu$, $\\sigma$)', fontsize=14)\n",
    "plt.tight_layout()"
   ]
  },
  {
   "cell_type": "markdown",
   "metadata": {},
   "source": [
    "### Answer - Code 4.4, 4.5"
   ]
  },
  {
   "cell_type": "code",
   "execution_count": 15,
   "metadata": {},
   "outputs": [
    {
     "data": {
      "image/png": "[encoded data removed]",
      "text/plain": [
       "<matplotlib.figure.Figure at 0x11face240>"
      ]
     },
     "metadata": {},
     "output_type": "display_data"
    }
   ],
   "source": [
    "np.random.seed(1)\n",
    "\n",
    "# --- 500 x 500 ---\n",
    "sample_size = 500000\n",
    "idx_samp = np.random.choice(500*500, sample_size, replace=True, p=posterior.reshape((500*500,)))\n",
    "mu_grid_samp = mu_grid.reshape((500*500,))[idx_samp]\n",
    "sigma_grid_samp = sigma_grid.reshape((500*500,))[idx_samp]\n",
    "\n",
    "# --- 100 x 100 ---\n",
    "mu_lin_100 = np.linspace(0, 60, 100)\n",
    "sigma_lin_100 = np.linspace(0.1, 50, 100)\n",
    "mu_grid_100, sigma_grid_100 = np.meshgrid(mu_lin_100, sigma_lin_100)\n",
    "posterior_100 = get_posterior(mu_grid_100, sigma_grid_100, light_speed)\n",
    "\n",
    "idx_samp_100 = np.random.choice(100*100, sample_size, replace=True, p=posterior_100.reshape((100*100,)))\n",
    "mu_grid_samp_100 = mu_grid_100.reshape((100*100,))[idx_samp_100]\n",
    "sigma_grid_samp_100 = sigma_grid_100.reshape((100*100,))[idx_samp_100]\n",
    "\n",
    "fig, axes = plt.subplots(1, 2, figsize=(12, 5))\n",
    "\n",
    "pd.Series(mu_grid_samp).plot(kind='hist', bins=25, density=True, alpha=0.5, ax=axes[0], label='500x500',\n",
    "                             title=r'marginal posterior $\\mu$ density')\n",
    "pd.Series(sigma_grid_samp).plot(kind='hist', bins=25, density=True, alpha=0.5, ax=axes[1], label='500x500',\n",
    "                                title=r'marginal posterior $\\sigma$ density')\n",
    "\n",
    "pd.Series(mu_grid_samp_100).plot(kind='hist', bins=25, density=True, alpha=0.5, ax=axes[0], label='100x100')\n",
    "pd.Series(sigma_grid_samp_100).plot(kind='hist', bins=25, density=True, alpha=0.5, ax=axes[1], label='100x100')\n",
    "\n",
    "axes[0].legend()\n",
    "axes[1].legend()\n",
    "plt.tight_layout()"
   ]
  },
  {
   "cell_type": "markdown",
   "metadata": {},
   "source": [
    "### Answer 4.5\n",
    "**How do the marginal posteriors now look? What does this look tell us about the dimensional scaling of this grid-sampling-in-proportion-to-posterior method of obtaining samples?**\n",
    "\n",
    "A sample size of 500000 on the 500x500 grid can cover the full support of the posterior $\\mu$ and $\\sigma$, but not the case on the 100x100 grid. This tells us that the sample grid resolution should be proportionally compatible with the sample size - the more samples we need, the higher grid resolution is required.\n",
    "\n",
    "---\n",
    "### Answer - Code 4.6"
   ]
  },
  {
   "cell_type": "code",
   "execution_count": 16,
   "metadata": {},
   "outputs": [
    {
     "data": {
      "image/png": "[encoded data removed]",
      "text/plain": [
       "<matplotlib.figure.Figure at 0x11f08fe48>"
      ]
     },
     "metadata": {},
     "output_type": "display_data"
    }
   ],
   "source": [
    "np.random.seed(1)\n",
    "\n",
    "# 4.6\n",
    "# draw posterior predictive samples\n",
    "pp_grid = np.random.normal(loc=mu_grid_samp, scale=sigma_grid_samp)\n",
    "\n",
    "# plot histogram - PP samples & data\n",
    "fig, ax = plt.subplots(1, 1, figsize=(6, 4))\n",
    "pd.Series(light_speed).plot(kind='hist', bins=20, density=True, alpha=0.5, ax=ax, label='Data')\n",
    "pd.Series(pp_grid.flatten()).plot(kind='hist', bins=20, density=True, alpha=0.5, ax=ax, label='Posterior Predictive')\n",
    "ax.set_title('Data & Posterior Predictive Density')\n",
    "plt.legend(bbox_to_anchor=(1.05, 1), loc=2, borderaxespad=0., fontsize=12)\n",
    "plt.tight_layout()"
   ]
  },
  {
   "cell_type": "markdown",
   "metadata": {},
   "source": [
    "### Answer 4.6\n",
    "**Plot the posterior predictive distribution against the data, and write down your observations.**\n",
    "\n",
    "The posterior predictive is smoother than the raw data's empirical distribution, and the outlier (-44) was not within the spread of the posterior predictive.\n",
    "\n",
    "---\n",
    "### Answer - Code 4.7"
   ]
  },
  {
   "cell_type": "code",
   "execution_count": 17,
   "metadata": {},
   "outputs": [
    {
     "data": {
      "text/plain": [
       "((500000,), 500000, 66)"
      ]
     },
     "execution_count": 17,
     "metadata": {},
     "output_type": "execute_result"
    }
   ],
   "source": [
    "mu_grid_samp.shape, sample_size, len(light_speed)"
   ]
  },
  {
   "cell_type": "code",
   "execution_count": 18,
   "metadata": {},
   "outputs": [
    {
     "data": {
      "image/png": "[encoded data removed]",
      "text/plain": [
       "<matplotlib.figure.Figure at 0x1200a9a20>"
      ]
     },
     "metadata": {},
     "output_type": "display_data"
    }
   ],
   "source": [
    "np.random.seed(1)\n",
    "\n",
    "# 4.7\n",
    "# iteratively draw posterior predictive samples & compute the minimum\n",
    "rep_samp_size = sample_size # 500000\n",
    "data_size = len(light_speed) # 66\n",
    "rep_data = np.zeros((rep_samp_size, data_size))\n",
    "\n",
    "# draw posterior predictive samples for 66 times\n",
    "for _j in range(data_size):\n",
    "    rep_data[:, _j] = np.random.normal(loc=mu_grid_samp, scale=sigma_grid_samp) \n",
    "\n",
    "# plot the minimum from replicative datasets coming from 66x posterior predictive samples\n",
    "fig, ax = plt.subplots(1, 1, figsize=(6, 4))\n",
    "pd.Series(rep_data.min(axis=1)).plot(kind='hist', bins=25, density=True, alpha=0.5, ax=ax, \n",
    "                         label='Min(Replicative Posterior Predictive)')\n",
    "ax.axvline(np.min(light_speed), label='Min(Data)', c='r')\n",
    "ax.set_title('Mininum of Data / Posterior Predictive')\n",
    "plt.legend(bbox_to_anchor=(1.05, 1), loc=2, borderaxespad=0., fontsize=12)\n",
    "plt.tight_layout()"
   ]
  },
  {
   "cell_type": "markdown",
   "metadata": {},
   "source": [
    "### Answer 4.7\n",
    "**Compute the replicative distribution of the minimum-value of the dataset and compare it to the actual value. What might you conclude about the quality of the specification of our model for the purposes of computing minimum values?**\n",
    "\n",
    "As the distribution of minimums from the replicative posterior predictive samples does not capture the minimum of the raw dataset, a very likely an outlier, we would conclude that our model is good for the purpose of computing minimum values in that it is robust to outliers.\n",
    "\n",
    "---"
   ]
  },
  {
   "cell_type": "markdown",
   "metadata": {},
   "source": [
    "As the distribution of minimums from the replicative posterior predictive samples does not capture the minimum of the raw dataset, a very likely an outlier, we would conclude that our model is not good for the the purposes of computing minimum values. Normal distribution might not be a good fit to model extreme outliers that are "
   ]
  }
 ],
 "metadata": {
  "anaconda-cloud": {},
  "kernel_info": {
   "name": "python3"
  },
  "kernelspec": {
   "display_name": "Python 3",
   "language": "python",
   "name": "python3"
  },
  "language_info": {
   "codemirror_mode": {
    "name": "ipython",
    "version": 3
   },
   "file_extension": ".py",
   "mimetype": "text/x-python",
   "name": "python",
   "nbconvert_exporter": "python",
   "pygments_lexer": "ipython3",
   "version": "3.6.4"
  },
  "nteract": {
   "version": "0.11.7"
  }
 },
 "nbformat": 4,
 "nbformat_minor": 2
}
